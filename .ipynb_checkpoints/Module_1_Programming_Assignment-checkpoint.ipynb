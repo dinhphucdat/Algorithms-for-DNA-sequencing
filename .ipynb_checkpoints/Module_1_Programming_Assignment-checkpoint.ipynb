{
 "cells": [
  {
   "cell_type": "code",
   "execution_count": 2,
   "id": "8335d3c0-28ce-4cd9-b900-f35b81617fc8",
   "metadata": {},
   "outputs": [
    {
     "data": {
      "text/plain": [
       "'\\nFirst, implement a version of the naive exact matching algorithm that is strand-aware. That is, instead of looking only for occurrences of P in T, additionally look for occurrences of the reverse complement of P in T. If P is ACT, your function should find occurrences of both ACT and its reverse complement AGT in T.\\n\\nIf P and its reverse complement are identical (e.g. AACGTT), then a given match offset should be reported only once. So if your new function is called naive_with_rc, then the old naive function and your new naive_with_rc function should return the same results when P equals its reverse complement.\\n'"
      ]
     },
     "execution_count": 2,
     "metadata": {},
     "output_type": "execute_result"
    }
   ],
   "source": [
    "# Prompt\n",
    "\"\"\"\n",
    "First, implement a version of the naive exact matching algorithm that is strand-aware. That is, instead of looking only for occurrences of P in T, additionally look for occurrences of the reverse complement of P in T. If P is ACT, your function should find occurrences of both ACT and its reverse complement AGT in T.\n",
    "\n",
    "If P and its reverse complement are identical (e.g. AACGTT), then a given match offset should be reported only once. So if your new function is called naive_with_rc, then the old naive function and your new naive_with_rc function should return the same results when P equals its reverse complement.\n",
    "\"\"\""
   ]
  },
  {
   "cell_type": "code",
   "execution_count": 16,
   "id": "93086f68-67da-4cd8-af3a-b0945bf07de1",
   "metadata": {},
   "outputs": [],
   "source": [
    "def reversed_complementary_strand(sequence : str) -> str:\n",
    "    complementary_map = {'A':'T', 'T':'A', 'G':'C', 'C':'G'}\n",
    "    return \"\".join([complementary_map[base] for base in reversed(sequence)])"
   ]
  },
  {
   "cell_type": "code",
   "execution_count": 17,
   "id": "aaec2440-ef47-44ef-8600-1749d14818f4",
   "metadata": {},
   "outputs": [],
   "source": [
    "def naive(whole_genome : str, reference : str) -> list:\n",
    "    \"\"\"\n",
    "    Naive exact matching\n",
    "    @param whole_genome the whole genome\n",
    "    @param reference the short sequence to match\n",
    "    @return the list of matching offsets\n",
    "    \"\"\"\n",
    "    matching_offsets = []\n",
    "    outer_loop_len = len(whole_genome) - len(reference) + 1\n",
    "    for i in range(outer_loop_len):\n",
    "        matched = True\n",
    "        for j in range(len(reference)):\n",
    "            if whole_genome[i + j] != reference[j]:\n",
    "                matched = False\n",
    "                break\n",
    "        if matched:\n",
    "            matching_offsets.append(i)\n",
    "    return matching_offsets"
   ]
  },
  {
   "cell_type": "code",
   "execution_count": 18,
   "id": "f827aa90-4184-448a-aada-be4de1d109f9",
   "metadata": {},
   "outputs": [],
   "source": [
    "def naive_with_reversed_com(sequence : str, genome : str) -> list:\n",
    "    offsets_list = []\n",
    "    outer_list_iteration = len(genome) - len(sequence) + 1\n",
    "    reversed_complementary_sequence = reversed_complementary_strand(sequence)\n",
    "    # So that len(reversed_complementary_sequence) = len(sequence)\n",
    "    symmetric = reversed_complementary_sequence == sequence\n",
    "    offsets_list = naive(genome, sequence)\n",
    "    if not symmetric:\n",
    "        offsets_list.extend(naive(genome, reversed_complementary_sequence))\n",
    "    offsets_list.sort()\n",
    "    return offsets_list"
   ]
  },
  {
   "cell_type": "code",
   "execution_count": 19,
   "id": "ca7f6e8e-f5b2-4772-a1ba-b13a8a305bc5",
   "metadata": {},
   "outputs": [],
   "source": [
    "def parse_fasta(filename):\n",
    "    genome = \"\"\n",
    "    with open(filename, \"r\") as f:\n",
    "        genome = \"\".join([line for line in f if line[0] != \">\"])\n",
    "    return genome"
   ]
  },
  {
   "cell_type": "code",
   "execution_count": 20,
   "id": "859d3ac5-a222-4ef3-9af2-332c79006458",
   "metadata": {},
   "outputs": [
    {
     "name": "stdout",
     "output_type": "stream",
     "text": [
      "GGGCGGCGACCTCGCGGGTTTTCGCTATTTATGAAAATTTTCCGGTTTAAGGCGTTTCCGTTCTTCTTCG\n",
      "TCATAACTTAATGTTTTTATTTAAAATACCCTCTGAAAAGAAAGGAAACGACAGGTGCTGAAAGCGAGGC\n",
      "TTTTTGGCCTCTGTCGTTTCCTTTCTCTGTTTTTGTCCGTGGAATGAACAATGGAAGTCAACAAAAAGCA\n",
      "GCTGGCTGACATTTTCGGTGCGAGTATCCGTACCATTCAGAACTGGCAGGAACAGGGAATGCCCGTTCTG\n",
      "CGAGGCGGTGGCAAGGGTAATGAGGTGCTTTATGACTCTGCCGCCGTCATAAAATGGTATGCCGAAAGGG\n",
      "ATGCTGAAATTGAGAACGAAAAGCTGCGCCGGGAGGTTGAAGAACTGCGGCAGGCCAGCGAGGCAGATCT\n",
      "CCAGCCAGGAACTATTGAGTACGAACGCCATCGACTTACGCGTGCGCAGGCCGACGCACAGGAACTGAAG\n",
      "AATGCCAGAGACTCCGCTGAAGTGGTGGAAACCGCATTCTGTACTTTCGTGCTGTCGCGGATCGCAGGTG\n",
      "AAATTGCCAGTATTCTCGACGGGCTCCCCCTGTCGGTGCAGCGGCGTTTTCCGGAACTGGAAAACCGACA\n",
      "TGTTGATTTCCTGAAACGGGATATCATCAAAGCCATGAACAAAGCAGCCGCGCTGGATGAACTGATACCG\n",
      "GGGTTGCTGAGTGAATATATCGAACAGTCAGGTTAACAGGCTGCGGCATTTTGTCCGCGCCGGGCTTCGC\n",
      "TCACTGTTCAGGCCGGAGCCACAGACCGCCGTTGAATGGGCGGATGCTAATTACTATCTCCCGAAAGAAT\n",
      "CCGCATACCAGGAAGGGCGCTGGGAAACACTGCCCTTTCAGCGGGCCATCATGAATGCGATGGGCAGCGA\n",
      "CTACATCCGTGAGGTGAATGTGGTGAAGTCTGCCCGTGTCGGTTATTCCAAAATGCTGCTGGGTGTTTAT\n",
      "GCCTAC\n"
     ]
    }
   ],
   "source": [
    "reference_genome = parse_fasta(\"lambda_virus.fa\")\n",
    "print(reference_genome[:1000])"
   ]
  },
  {
   "cell_type": "code",
   "execution_count": 21,
   "id": "dfc77d16-a6a0-4d7a-91bd-79a532ea3373",
   "metadata": {},
   "outputs": [
    {
     "data": {
      "text/plain": [
       "293"
      ]
     },
     "execution_count": 21,
     "metadata": {},
     "output_type": "execute_result"
    }
   ],
   "source": [
    "# Question 1\n",
    "len(naive_with_reversed_com(\"ACCT\", reference_genome))"
   ]
  },
  {
   "cell_type": "code",
   "execution_count": 22,
   "id": "071b4028-8617-4250-aeb1-a35dff6c3535",
   "metadata": {},
   "outputs": [
    {
     "data": {
      "text/plain": [
       "191"
      ]
     },
     "execution_count": 22,
     "metadata": {},
     "output_type": "execute_result"
    }
   ],
   "source": [
    "# Question 2\n",
    "len(naive_with_reversed_com(\"TTAA\", reference_genome))"
   ]
  },
  {
   "cell_type": "code",
   "execution_count": 23,
   "id": "65dd5ada-9159-4ac6-bc29-4b45b2297ead",
   "metadata": {},
   "outputs": [
    {
     "data": {
      "text/plain": [
       "26399"
      ]
     },
     "execution_count": 23,
     "metadata": {},
     "output_type": "execute_result"
    }
   ],
   "source": [
    "# Question 3\n",
    "naive_with_reversed_com(\"ACTAAGT\", reference_genome)[0]"
   ]
  },
  {
   "cell_type": "code",
   "execution_count": 24,
   "id": "e58b1443-b15e-4ff8-8bcd-a205ecf89581",
   "metadata": {},
   "outputs": [
    {
     "data": {
      "text/plain": [
       "456"
      ]
     },
     "execution_count": 24,
     "metadata": {},
     "output_type": "execute_result"
    }
   ],
   "source": [
    "# Question 4\n",
    "naive_with_reversed_com(\"AGTCGA\", reference_genome)[0]"
   ]
  },
  {
   "cell_type": "code",
   "execution_count": 25,
   "id": "d8de7d9e-1ac7-4157-b69a-bb022251dd71",
   "metadata": {},
   "outputs": [],
   "source": [
    "# Question 5 -- 2 mismatches\n",
    "def naive_2mm(sequence : str, genome : str) -> list:\n",
    "    offsets_list = []\n",
    "    outer_list_iteration = len(genome) - len(sequence) + 1\n",
    "    for i in range(outer_list_iteration):\n",
    "        matched = True\n",
    "        counter = 0\n",
    "        for j in range(len(sequence)):\n",
    "            if genome[i + j] != sequence[j]:\n",
    "                counter += 1\n",
    "                if counter > 2:\n",
    "                    matched = False\n",
    "                    break\n",
    "        if matched:\n",
    "            offsets_list.append(i)\n",
    "    return offsets_list"
   ]
  },
  {
   "cell_type": "code",
   "execution_count": 26,
   "id": "07f7b00c-8f43-4df0-8420-76fbebf2035a",
   "metadata": {},
   "outputs": [
    {
     "data": {
      "text/plain": [
       "180"
      ]
     },
     "execution_count": 26,
     "metadata": {},
     "output_type": "execute_result"
    }
   ],
   "source": [
    "len(naive_2mm(\"TTCAAGCC\", reference_genome))"
   ]
  },
  {
   "cell_type": "code",
   "execution_count": 27,
   "id": "98bd7110-8db1-48ca-8469-02b5fa62cf43",
   "metadata": {},
   "outputs": [
    {
     "data": {
      "text/plain": [
       "49"
      ]
     },
     "execution_count": 27,
     "metadata": {},
     "output_type": "execute_result"
    }
   ],
   "source": [
    "# Question 6\n",
    "naive_2mm(\"AGGAGGTT\", reference_genome)[0]"
   ]
  },
  {
   "cell_type": "code",
   "execution_count": 31,
   "id": "4d1aee31-f536-4456-aaf9-045574f9ebcc",
   "metadata": {},
   "outputs": [
    {
     "name": "stdout",
     "output_type": "stream",
     "text": [
      "--2025-02-08 23:28:52--  https://d28rh4a8wq0iu5.cloudfront.net/ads1/data/ERR037900_1.first1000.fastq\n",
      "Resolving d28rh4a8wq0iu5.cloudfront.net (d28rh4a8wq0iu5.cloudfront.net)... 13.227.44.33, 13.227.44.91, 13.227.44.207, ...\n",
      "Connecting to d28rh4a8wq0iu5.cloudfront.net (d28rh4a8wq0iu5.cloudfront.net)|13.227.44.33|:443... connected.\n",
      "200 OKequest sent, awaiting response... \n",
      "Length: 241626 (236K) [application/octet-stream]\n",
      "Saving to: ‘ERR037900_1.first1000.fastq’\n",
      "\n",
      "ERR037900_1.first10 100%[===================>] 235.96K  --.-KB/s    in 0.03s   \n",
      "\n",
      "2025-02-08 23:28:52 (8.95 MB/s) - ‘ERR037900_1.first1000.fastq’ saved [241626/241626]\n",
      "\n"
     ]
    }
   ],
   "source": [
    "!wget https://d28rh4a8wq0iu5.cloudfront.net/ads1/data/ERR037900_1.first1000.fastq"
   ]
  },
  {
   "cell_type": "code",
   "execution_count": 99,
   "id": "a65b4cca-b90a-426f-b0b1-d4e4b2e9d120",
   "metadata": {},
   "outputs": [],
   "source": [
    "# Question 7\n",
    "reads_list = []\n",
    "with open(\"ERR037900_1.first1000.fastq\", \"r\") as fq:\n",
    "    while True:\n",
    "        fq.readline()\n",
    "        seqsss = fq.readline().rstrip()\n",
    "        fq.readline()\n",
    "        fq.readline()\n",
    "        if len(seqsss) == 0:\n",
    "            break\n",
    "        reads_list.append(seqsss)"
   ]
  },
  {
   "cell_type": "code",
   "execution_count": 100,
   "id": "421dc12b-7882-47c7-bda0-5124be9743fc",
   "metadata": {},
   "outputs": [
    {
     "data": {
      "text/plain": [
       "['TAACCCTAACCCTAACCCTAACCCTAACCCTAACCCTAACCCTAACCCTAACCCTAACCCTAACCCNAACCCTAACCCTAACCCTAACCCTAACCCTAAC',\n",
       " 'TAACCCTAACCCTAACCCTAACCCTAACCCTAACCCTAACCCTAACCCTAACCCTAACCCTAACCCNAACCCTAACCCTAACCCTAACCCTNACCCTAAC',\n",
       " 'TAACCCTAACCCTAACCCTAACCCTAACCCTAACCCTAACCCTAACCCTAACCCTAACCCTAACCCNAACCCTAACCCTAACCCTAACCCTAACCCTAAC',\n",
       " 'TAACCCTAACCCTAACCCTAACCCTAACCCTAACCCTAACCCTAACCCTAACCCTAACCCTAACCCNAACCCTAACCCTAACCCTAACCCTAACCCTACC',\n",
       " 'AACCCTAACCCTAACCCTAACCCTAACCCTAACCCTAACCCTAACCCTAACCCTAACCCTAACCCTNACCCTAACCCTAACCCTAACCCTAAACCTAACC',\n",
       " 'AACCCTAACCCTAACCCTAACCCTAACCCTAACCCTAACCCTAACCCTAACCCTAACCCTAACCCTNACCCTAACCCTAACCCTAACCCTAACCCTAACC',\n",
       " 'AACCCTAACCCTAACCCTAACCCTAACCCTAACCCTAACCCTAACCCTAACCCTAACCCTAACCCTNACCCTAACCCTAACCCTAACCCTAACCCTAACC',\n",
       " 'AACCCTAACCCTAACCCTAACCCTAACCCTAACCCTAACCCTAACCCTAACCCTAACCCTAACCCTNAACCTAACCCTAACCCTAACTCTAACCCTAACC',\n",
       " 'ACCCTAACCCTAACCCTAACCCTAACCCTAACCCTAACCCTAACCCTAACCCTAACCCTAACCCTANCCCTAACCCTAACCCTAACCCTAACCCTAACCC',\n",
       " 'CCCTAACCCTAACCCTAACCCTAACCCTAACCCTAACCCTAACCCTAACCCTAACCCTAACCCTAANCCTAACCCTAACCCTAACCCTACCCCTAACCCT']"
      ]
     },
     "execution_count": 100,
     "metadata": {},
     "output_type": "execute_result"
    }
   ],
   "source": [
    "reads_list[:10]"
   ]
  },
  {
   "cell_type": "code",
   "execution_count": 101,
   "id": "24af319d-a02e-4cb8-908d-ee7d882b6f79",
   "metadata": {},
   "outputs": [],
   "source": [
    "import numpy\n",
    "def find_gc_by_position(multiple_sample_sequences : list) -> list:\n",
    "    \"\"\"\n",
    "    Assume that every sample has the same # of base pairs - simply take the length of first sample\n",
    "    \"\"\"\n",
    "    len_base_pairs = len(multiple_sample_sequences[0])\n",
    "    gc_array = numpy.array([0 for _ in range(len_base_pairs)])\n",
    "    total_array = gc_array.copy()\n",
    "    for i in range(len_base_pairs):\n",
    "        for sample in multiple_sample_sequences:\n",
    "            gc_array[i] += 1 if sample[i] in [\"G\", \"C\"] else 0\n",
    "            total_array[i] += 1\n",
    "    gc_array = [gc_array[i] / float(total_array[i]) for i in range(len(gc_array)) if total_array[i] != 0]\n",
    "    return gc_array"
   ]
  },
  {
   "cell_type": "code",
   "execution_count": 102,
   "id": "c90f5552-c570-4997-9b0d-4d44a996d46d",
   "metadata": {},
   "outputs": [],
   "source": [
    "array = find_gc_by_position(reads_list)"
   ]
  },
  {
   "cell_type": "code",
   "execution_count": 103,
   "id": "f8b1ed2d-4be9-4e79-b3fe-19bd69c6dab1",
   "metadata": {},
   "outputs": [
    {
     "data": {
      "image/png": "[encoded data removed]",
      "text/plain": [
       "<Figure size 640x480 with 1 Axes>"
      ]
     },
     "metadata": {},
     "output_type": "display_data"
    }
   ],
   "source": [
    "%matplotlib inline\n",
    "import matplotlib.pyplot as plt\n",
    "plt.plot(range(len(reads_list[0])), array)\n",
    "plt.show()"
   ]
  },
  {
   "cell_type": "code",
   "execution_count": 104,
   "id": "9dad309e-b7dd-45fd-9cb7-2405d9170a2f",
   "metadata": {},
   "outputs": [
    {
     "data": {
      "text/plain": [
       "66"
      ]
     },
     "execution_count": 104,
     "metadata": {},
     "output_type": "execute_result"
    }
   ],
   "source": [
    "array.index(min(array))"
   ]
  }
 ],
 "metadata": {
  "kernelspec": {
   "display_name": "Python 3 (ipykernel)",
   "language": "python",
   "name": "python3"
  },
  "language_info": {
   "codemirror_mode": {
    "name": "ipython",
    "version": 3
   },
   "file_extension": ".py",
   "mimetype": "text/x-python",
   "name": "python",
   "nbconvert_exporter": "python",
   "pygments_lexer": "ipython3",
   "version": "3.12.8"
  }
 },
 "nbformat": 4,
 "nbformat_minor": 5
}
