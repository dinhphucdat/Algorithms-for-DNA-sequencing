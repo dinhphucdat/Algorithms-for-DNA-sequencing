{
 "cells": [
  {
   "cell_type": "code",
   "execution_count": 1,
   "id": "5eab0067-cb85-4015-8964-0ad267312e13",
   "metadata": {},
   "outputs": [
    {
     "name": "stdout",
     "output_type": "stream",
     "text": [
      "--2025-02-08 12:08:57--  http://d28rh4a8wq0iu5.cloudfront.net/ads1/data/lambda_virus.fa\n",
      "13.227.44.33, 13.227.44.207, 13.227.44.91, ...4a8wq0iu5.cloudfront.net)... \n",
      "Connecting to d28rh4a8wq0iu5.cloudfront.net (d28rh4a8wq0iu5.cloudfront.net)|13.227.44.33|:80... connected.\n",
      "200 OKequest sent, awaiting response... \n",
      "Length: 49270 (48K) [application/octet-stream]\n",
      "Saving to: ‘lambda_virus.fa’\n",
      "\n",
      "lambda_virus.fa     100%[===================>]  48.12K  --.-KB/s    in 0.006s  \n",
      "\n",
      "2025-02-08 12:08:57 (8.38 MB/s) - ‘lambda_virus.fa’ saved [49270/49270]\n",
      "\n"
     ]
    }
   ],
   "source": [
    "!wget --no-check http://d28rh4a8wq0iu5.cloudfront.net/ads1/data/lambda_virus.fa"
   ]
  },
  {
   "cell_type": "code",
   "execution_count": 2,
   "id": "c8b94612-301a-4fc7-9d9e-0364287a41b9",
   "metadata": {},
   "outputs": [],
   "source": [
    "def read_genome(filename):\n",
    "    genome = ''\n",
    "    with open(filename, 'r') as f:\n",
    "        for line in f:\n",
    "            if not line[0] == '>':\n",
    "                genome += line.rstrip() # strip out any whitespace, newline,...\n",
    "    return genome"
   ]
  },
  {
   "cell_type": "code",
   "execution_count": 3,
   "id": "ef3d677e-73f3-4be5-bb47-c7c3cc84a40c",
   "metadata": {},
   "outputs": [
    {
     "data": {
      "text/plain": [
       "'GGGCGGCGACCTCGCGGGTTTTCGCTATTTATGAAAATTTTCCGGTTTAAGGCGTTTCCGTTCTTCTTCGTCATAACTTAATGTTTTTATTTAAAATACC'"
      ]
     },
     "execution_count": 3,
     "metadata": {},
     "output_type": "execute_result"
    }
   ],
   "source": [
    "genome = read_genome(\"lambda_virus.fa\")\n",
    "genome[:100]"
   ]
  },
  {
   "cell_type": "code",
   "execution_count": 4,
   "id": "d1bc966b-56da-4380-b326-1c0bbaf22fd5",
   "metadata": {},
   "outputs": [
    {
     "data": {
      "text/plain": [
       "{'A': 12334, 'T': 11986, 'C': 11362, 'G': 12820}"
      ]
     },
     "execution_count": 4,
     "metadata": {},
     "output_type": "execute_result"
    }
   ],
   "source": [
    "# count bases\n",
    "bases_count = {'A':0, 'T':0, 'C':0, 'G':0}\n",
    "for base in genome:\n",
    "    bases_count[base] += 1\n",
    "bases_count"
   ]
  },
  {
   "cell_type": "code",
   "execution_count": 5,
   "id": "9d081568-ffe2-4fba-a503-536aefdaa276",
   "metadata": {},
   "outputs": [],
   "source": [
    "# another way to count bases\n",
    "import collections"
   ]
  },
  {
   "cell_type": "code",
   "execution_count": 6,
   "id": "deef64d8-738d-4335-ac94-d64321e9e765",
   "metadata": {},
   "outputs": [
    {
     "data": {
      "text/plain": [
       "Counter({'G': 12820, 'A': 12334, 'T': 11986, 'C': 11362})"
      ]
     },
     "execution_count": 6,
     "metadata": {},
     "output_type": "execute_result"
    }
   ],
   "source": [
    "collections.Counter(genome)"
   ]
  },
  {
   "cell_type": "code",
   "execution_count": null,
   "id": "334ca5bf-f940-427b-a674-8a3070909d7f",
   "metadata": {},
   "outputs": [],
   "source": []
  }
 ],
 "metadata": {
  "kernelspec": {
   "display_name": "Python 3 (ipykernel)",
   "language": "python",
   "name": "python3"
  },
  "language_info": {
   "codemirror_mode": {
    "name": "ipython",
    "version": 3
   },
   "file_extension": ".py",
   "mimetype": "text/x-python",
   "name": "python",
   "nbconvert_exporter": "python",
   "pygments_lexer": "ipython3",
   "version": "3.12.8"
  }
 },
 "nbformat": 4,
 "nbformat_minor": 5
}
