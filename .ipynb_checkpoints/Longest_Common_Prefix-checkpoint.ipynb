{
 "cells": [
  {
   "cell_type": "code",
   "execution_count": 1,
   "id": "45010fa0-5f05-4a79-99cb-8aa872503c94",
   "metadata": {},
   "outputs": [],
   "source": [
    "def longest_common_prefix(seq_1, seq_2):\n",
    "    i = 0\n",
    "    while (i < len(seq_1) and i < len(seq_2) and seq_1[i] == seq_2[i]):\n",
    "        i += 1\n",
    "    return seq_1[:i]"
   ]
  },
  {
   "cell_type": "code",
   "execution_count": 2,
   "id": "aece40ba-476f-4f29-b34c-1deb349434b5",
   "metadata": {},
   "outputs": [
    {
     "name": "stdout",
     "output_type": "stream",
     "text": [
      "ATATC\n"
     ]
    }
   ],
   "source": [
    "print(longest_common_prefix(\"ATATCCGGTAC\", \"ATATCGTACG\"))"
   ]
  },
  {
   "cell_type": "code",
   "execution_count": 3,
   "id": "d5250d25-3307-42e3-a625-7731c63af229",
   "metadata": {},
   "outputs": [],
   "source": [
    "def match(seq_1, seq_2):\n",
    "    if seq_1 == seq_2:\n",
    "        return True\n",
    "    else:\n",
    "        return False"
   ]
  },
  {
   "cell_type": "code",
   "execution_count": 5,
   "id": "34440b82-07ad-429d-9877-9f7a1349795f",
   "metadata": {},
   "outputs": [
    {
     "name": "stdout",
     "output_type": "stream",
     "text": [
      "False\n"
     ]
    }
   ],
   "source": [
    "print(match(\"ATATAT\", \"ATCATATA\"))"
   ]
  },
  {
   "cell_type": "code",
   "execution_count": 9,
   "id": "d15f1cad-2150-401e-8df6-f97f3c97798e",
   "metadata": {},
   "outputs": [],
   "source": [
    "complimentary_key = {'A':'T', 'T':'A', 'C':'G', 'G':'C'}"
   ]
  },
  {
   "cell_type": "code",
   "execution_count": 13,
   "id": "9de11da8-a98f-4a41-a5c3-3cf9fe90265e",
   "metadata": {},
   "outputs": [],
   "source": [
    "def complement_strand(template_strand):\n",
    "    try:\n",
    "        complement = \"\".join([complimentary_key[base] for base in template_strand])\n",
    "        return complement\n",
    "    except:\n",
    "        print(\"The template strand should only contain A, T, C, and G\")"
   ]
  },
  {
   "cell_type": "code",
   "execution_count": 15,
   "id": "8ae7aa3e-8418-4233-9a4c-739daceeb166",
   "metadata": {},
   "outputs": [
    {
     "name": "stdout",
     "output_type": "stream",
     "text": [
      "TAGCTAGCTAGC\n"
     ]
    }
   ],
   "source": [
    "print(complement_strand(\"ATCGATCGATCG\"))"
   ]
  },
  {
   "cell_type": "code",
   "execution_count": null,
   "id": "647b557b-0b4d-49d1-9bcc-c2e204a1a436",
   "metadata": {},
   "outputs": [],
   "source": []
  }
 ],
 "metadata": {
  "kernelspec": {
   "display_name": "Python 3 (ipykernel)",
   "language": "python",
   "name": "python3"
  },
  "language_info": {
   "codemirror_mode": {
    "name": "ipython",
    "version": 3
   },
   "file_extension": ".py",
   "mimetype": "text/x-python",
   "name": "python",
   "nbconvert_exporter": "python",
   "pygments_lexer": "ipython3",
   "version": "3.12.8"
  }
 },
 "nbformat": 4,
 "nbformat_minor": 5
}
