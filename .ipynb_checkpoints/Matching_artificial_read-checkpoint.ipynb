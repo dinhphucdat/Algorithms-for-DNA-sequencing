{
 "cells": [
  {
   "cell_type": "code",
   "execution_count": 1,
   "id": "d7b82144-57d4-47e3-9dd1-da983fe0afec",
   "metadata": {},
   "outputs": [
    {
     "name": "stdout",
     "output_type": "stream",
     "text": [
      "--2025-02-08 20:36:57--  http://d28rh4a8wq0iu5.cloudfront.net/ads1/data/phix.fa\n",
      "Resolving d28rh4a8wq0iu5.cloudfront.net (d28rh4a8wq0iu5.cloudfront.net)... 13.227.44.207, 13.227.44.33, 13.227.44.91, ...\n",
      "Connecting to d28rh4a8wq0iu5.cloudfront.net (d28rh4a8wq0iu5.cloudfront.net)|13.227.44.207|:80... connected.\n",
      "200 OKequest sent, awaiting response... \n",
      "Length: 5528 (5.4K) [application/octet-stream]\n",
      "Saving to: ‘phix.fa’\n",
      "\n",
      "phix.fa             100%[===================>]   5.40K  --.-KB/s    in 0s      \n",
      "\n",
      "2025-02-08 20:36:58 (48.4 MB/s) - ‘phix.fa’ saved [5528/5528]\n",
      "\n"
     ]
    }
   ],
   "source": [
    "!wget http://d28rh4a8wq0iu5.cloudfront.net/ads1/data/phix.fa"
   ]
  },
  {
   "cell_type": "code",
   "execution_count": 3,
   "id": "d8702b66-0716-4da6-8e22-089470810998",
   "metadata": {},
   "outputs": [],
   "source": [
    "def read_genome(filename):\n",
    "    genome = ''\n",
    "    with open(filename, 'r') as f:\n",
    "        for line in f:\n",
    "            if not line[0] == '>':\n",
    "                genome += line.rstrip() # strip out any whitespace, newline,...\n",
    "    return genome"
   ]
  },
  {
   "cell_type": "code",
   "execution_count": 4,
   "id": "77ff1724-efba-44ea-912d-24cc2fa0d0f7",
   "metadata": {},
   "outputs": [],
   "source": [
    "genome = read_genome(\"phix.fa\")"
   ]
  },
  {
   "cell_type": "code",
   "execution_count": 6,
   "id": "bdc371dd-e598-40ac-a33e-59dc2246bff9",
   "metadata": {},
   "outputs": [],
   "source": [
    "def naive(whole_genome : str, reference : str) -> list:\n",
    "    \"\"\"\n",
    "    Naive exact matching\n",
    "    @param whole_genome the whole genome\n",
    "    @param reference the short sequence to match\n",
    "    @return the list of matching offsets\n",
    "    \"\"\"\n",
    "    matching_offsets = []\n",
    "    outer_loop_len = len(whole_genome) - len(reference) + 1\n",
    "    for i in range(outer_loop_len):\n",
    "        matched = True\n",
    "        for j in range(len(reference)):\n",
    "            if whole_genome[i + j] != reference[j]:\n",
    "                matched = False\n",
    "                break\n",
    "        if matched:\n",
    "            matching_offsets.append(i)\n",
    "    return matching_offsets"
   ]
  },
  {
   "cell_type": "code",
   "execution_count": 7,
   "id": "2200937d-857d-40cc-a0d1-676004cb7b16",
   "metadata": {},
   "outputs": [
    {
     "data": {
      "text/plain": [
       "[4, 5, 17, 18, 25, 26, 27, 28, 29]"
      ]
     },
     "execution_count": 7,
     "metadata": {},
     "output_type": "execute_result"
    }
   ],
   "source": [
    "test_genome = \"ATCGAAAATTTCGATCGAAAATTTCAAAAAAA\"\n",
    "test_reference = \"AAA\"\n",
    "test_matched = naive(test_genome, test_reference)\n",
    "test_matched"
   ]
  },
  {
   "cell_type": "code",
   "execution_count": 10,
   "id": "ee3e6b85-782e-4b28-9da2-ef234f48816f",
   "metadata": {},
   "outputs": [
    {
     "name": "stdout",
     "output_type": "stream",
     "text": [
      "--2025-02-08 21:01:48--  http://d28rh4a8wq0iu5.cloudfront.net/ads1/data/ERR266411_1.first1000.fastq\n",
      "13.227.44.91, 13.227.44.207, 13.227.44.144, ...a8wq0iu5.cloudfront.net)... \n",
      "Connecting to d28rh4a8wq0iu5.cloudfront.net (d28rh4a8wq0iu5.cloudfront.net)|13.227.44.91|:80... connected.\n",
      "200 OKequest sent, awaiting response... \n",
      "Length: 254384 (248K) [audio/mpeg]\n",
      "Saving to: ‘ERR266411_1.first1000.fastq’\n",
      "\n",
      "ERR266411_1.first10 100%[===================>] 248.42K  --.-KB/s    in 0.04s   \n",
      "\n",
      "2025-02-08 21:01:49 (6.32 MB/s) - ‘ERR266411_1.first1000.fastq’ saved [254384/254384]\n",
      "\n"
     ]
    }
   ],
   "source": [
    "# Matching real reads\n",
    "!wget http://d28rh4a8wq0iu5.cloudfront.net/ads1/data/ERR266411_1.first1000.fastq"
   ]
  },
  {
   "cell_type": "code",
   "execution_count": 11,
   "id": "7e7c5318-4575-4f5c-a788-bc9e3440d54b",
   "metadata": {},
   "outputs": [],
   "source": [
    "def read_fastq(filename):\n",
    "    sequences = []\n",
    "    qualities = []\n",
    "    with open(filename, \"r\") as fh:\n",
    "        while True:\n",
    "            fh.readline()\n",
    "            seq = fh.readline().rstrip()\n",
    "            fh.readline()\n",
    "            Q_encoded = fh.readline().rstrip()\n",
    "            if len(seq) == 0:\n",
    "                break\n",
    "            sequences.append(seq)\n",
    "            qualities.append(Q_encoded)\n",
    "    return sequences, qualities"
   ]
  },
  {
   "cell_type": "code",
   "execution_count": 12,
   "id": "93287bc7-5c88-4589-a1db-f95d87329021",
   "metadata": {},
   "outputs": [],
   "source": [
    "seqs, _ = read_fastq(\"ERR266411_1.first1000.fastq\")"
   ]
  },
  {
   "cell_type": "code",
   "execution_count": 17,
   "id": "8bfe53c2-99c2-48ee-8186-85d446c26546",
   "metadata": {},
   "outputs": [
    {
     "name": "stdout",
     "output_type": "stream",
     "text": [
      "Percentage of matched = 0.007\n"
     ]
    }
   ],
   "source": [
    "num_matched = 0\n",
    "n = 0\n",
    "for sequence_fastq in seqs:\n",
    "    # Note that the accuracy decrease as we move to the end of the sequence, so if we only take the first prefix of 30 bases, matched proportion is gonna be high!\n",
    "    # sequence_fastq = sequence_fastq[:30]\n",
    "    if len(naive(genome, sequence_fastq)) > 0:\n",
    "        num_matched += 1\n",
    "    n += 1\n",
    "print(\"Percentage of matched = {:.3f}\".format(float(num_matched)/n))"
   ]
  },
  {
   "cell_type": "code",
   "execution_count": 19,
   "id": "476cc72f-935c-405b-a827-d9f45696f5f2",
   "metadata": {},
   "outputs": [],
   "source": [
    "# Also, note that the sequencer may sometimes switch to the coding strand so the interchanging between the double strands\n",
    "# may lead to the little success if we only restrict the matching process to the template strand"
   ]
  },
  {
   "cell_type": "code",
   "execution_count": 38,
   "id": "bf27fef1-91b2-4ce4-b55b-9a074139b8cc",
   "metadata": {},
   "outputs": [],
   "source": [
    "# This function's implementation here is different from that in the \"Longest_Common_Prefix\" module. \n",
    "# This also involves the reverse of the complementary strand because DNA-Polymerase III can only read from 5' to 3'.\n",
    "# Applying this to the slide analogy, after the template strand is chopped up, its subsequences have to be flipped before stuck on the board.\n",
    "# So we have to flip the complementary strand once again to compensate for that flip-flop.\n",
    "def complement_strand(template_strand):\n",
    "    complimentary_key = {'A':'T', 'T':'A', 'C':'G', 'G':'C', 'N':'N'}\n",
    "    try:\n",
    "        complement = \"\".join([complimentary_key[base] for base in reversed(template_strand)])\n",
    "        return complement\n",
    "    except:\n",
    "        print(\"The template strand should only contain A, T, C, and G\")"
   ]
  },
  {
   "cell_type": "code",
   "execution_count": 39,
   "id": "4ed5c7da-bc6e-4fee-81b6-fcf61c8e0b07",
   "metadata": {},
   "outputs": [
    {
     "name": "stdout",
     "output_type": "stream",
     "text": [
      "Percentage of matched = 0.932\n"
     ]
    }
   ],
   "source": [
    "num_matched_ = 0\n",
    "n_ = 0\n",
    "for sequence_fastq in seqs:\n",
    "    # Note that the accuracy decrease as we move to the end of the sequence, so if we only take the first prefix of 30 bases, matched proportion is gonna be high!\n",
    "    sequence_fastq = sequence_fastq[:30]\n",
    "    matching_set = naive(genome, sequence_fastq)\n",
    "    matching_set.extend(naive(genome, complement_strand(sequence_fastq)))\n",
    "    if len(matching_set) > 0:\n",
    "        num_matched_ += 1\n",
    "    n_ += 1\n",
    "print(\"Percentage of matched = {:.3f}\".format(float(num_matched_)/n_))"
   ]
  },
  {
   "cell_type": "code",
   "execution_count": null,
   "id": "4554a577-c2e3-4960-a387-34b73d96cb61",
   "metadata": {},
   "outputs": [],
   "source": []
  }
 ],
 "metadata": {
  "kernelspec": {
   "display_name": "Python 3 (ipykernel)",
   "language": "python",
   "name": "python3"
  },
  "language_info": {
   "codemirror_mode": {
    "name": "ipython",
    "version": 3
   },
   "file_extension": ".py",
   "mimetype": "text/x-python",
   "name": "python",
   "nbconvert_exporter": "python",
   "pygments_lexer": "ipython3",
   "version": "3.12.8"
  }
 },
 "nbformat": 4,
 "nbformat_minor": 5
}
