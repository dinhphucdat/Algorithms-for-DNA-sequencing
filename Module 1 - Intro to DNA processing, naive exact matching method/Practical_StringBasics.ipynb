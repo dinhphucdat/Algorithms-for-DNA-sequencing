{
 "cells": [
  {
   "cell_type": "code",
   "execution_count": 2,
   "id": "6a344a14-bea7-443e-9e66-372f16592ee1",
   "metadata": {},
   "outputs": [],
   "source": [
    "seq=\"ACGT\""
   ]
  },
  {
   "cell_type": "code",
   "execution_count": 3,
   "id": "e2de35f6-9970-4d76-a5ef-5a8d74d879bc",
   "metadata": {},
   "outputs": [
    {
     "data": {
      "text/plain": [
       "'A'"
      ]
     },
     "execution_count": 3,
     "metadata": {},
     "output_type": "execute_result"
    }
   ],
   "source": [
    "seq[0]"
   ]
  },
  {
   "cell_type": "code",
   "execution_count": 4,
   "id": "79ba55bb-cb2d-4393-ad9e-49d0ae821007",
   "metadata": {},
   "outputs": [
    {
     "data": {
      "text/plain": [
       "4"
      ]
     },
     "execution_count": 4,
     "metadata": {},
     "output_type": "execute_result"
    }
   ],
   "source": [
    "len(seq)"
   ]
  },
  {
   "cell_type": "code",
   "execution_count": 5,
   "id": "22f7755a-d513-4210-829f-4738af0bc9a1",
   "metadata": {},
   "outputs": [],
   "source": [
    "seq_array = ['A', 'T', 'C', 'G']"
   ]
  },
  {
   "cell_type": "code",
   "execution_count": 6,
   "id": "f4770da8-fc9f-413c-84c5-44adfb90d9a3",
   "metadata": {},
   "outputs": [],
   "source": [
    "seq_string = ''.join(seq_array)"
   ]
  },
  {
   "cell_type": "code",
   "execution_count": 7,
   "id": "d396e6bf-42d3-4833-ae50-1b954e2d8643",
   "metadata": {},
   "outputs": [
    {
     "name": "stdout",
     "output_type": "stream",
     "text": [
      "ATCG\n"
     ]
    }
   ],
   "source": [
    "print(seq_string)"
   ]
  },
  {
   "cell_type": "code",
   "execution_count": 8,
   "id": "af1525df-64a7-45ab-9278-b6b2df0eb0c8",
   "metadata": {},
   "outputs": [],
   "source": [
    "import random"
   ]
  },
  {
   "cell_type": "code",
   "execution_count": 11,
   "id": "1bf19e2a-026b-4a88-84d4-f5d922f5a64c",
   "metadata": {},
   "outputs": [],
   "source": [
    "# random.choice(\"ABCD\") to choose either of these 4 chars\n",
    "random.seed(10)\n",
    "random_seq_arr = [random.choice(\"ATGC\") for i in range(10)]\n",
    "random_seq = \"\".join(random_seq_arr)"
   ]
  },
  {
   "cell_type": "code",
   "execution_count": 13,
   "id": "74742dd5-9226-4097-b506-d51c8d3c086b",
   "metadata": {},
   "outputs": [
    {
     "name": "stdout",
     "output_type": "stream",
     "text": [
      "ACCATCCGTA\n"
     ]
    }
   ],
   "source": [
    "print(random_seq)"
   ]
  },
  {
   "cell_type": "code",
   "execution_count": 14,
   "id": "33fa8a2f-14e4-4181-ba61-777358713000",
   "metadata": {},
   "outputs": [
    {
     "name": "stdout",
     "output_type": "stream",
     "text": [
      "ACCA\n"
     ]
    }
   ],
   "source": [
    "prefix_4 = random_seq[:4]\n",
    "print(prefix_4)"
   ]
  },
  {
   "cell_type": "code",
   "execution_count": 15,
   "id": "31a7690c-5ab9-4785-9bed-e239a7eb6c37",
   "metadata": {},
   "outputs": [
    {
     "name": "stdout",
     "output_type": "stream",
     "text": [
      "CGTA\n"
     ]
    }
   ],
   "source": [
    "suffix_4 = random_seq[-4:]\n",
    "print(suffix_4)"
   ]
  },
  {
   "cell_type": "code",
   "execution_count": null,
   "id": "3d194722-8570-4fbd-a2cb-e7b39b912666",
   "metadata": {},
   "outputs": [],
   "source": []
  }
 ],
 "metadata": {
  "kernelspec": {
   "display_name": "Python 3 (ipykernel)",
   "language": "python",
   "name": "python3"
  },
  "language_info": {
   "codemirror_mode": {
    "name": "ipython",
    "version": 3
   },
   "file_extension": ".py",
   "mimetype": "text/x-python",
   "name": "python",
   "nbconvert_exporter": "python",
   "pygments_lexer": "ipython3",
   "version": "3.12.8"
  }
 },
 "nbformat": 4,
 "nbformat_minor": 5
}
