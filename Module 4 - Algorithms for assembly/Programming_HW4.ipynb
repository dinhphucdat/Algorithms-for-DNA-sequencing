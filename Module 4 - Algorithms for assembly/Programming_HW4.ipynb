{
 "cells": [
  {
   "cell_type": "code",
   "execution_count": 7,
   "id": "835d4ef7-19d3-4812-bdc1-d86c79d750c7",
   "metadata": {},
   "outputs": [],
   "source": [
    "def overlap(a, b, min_length=3):\n",
    "    \"\"\" Return length of longest suffix of 'a' matching\n",
    "        a prefix of 'b' that is at least 'min_length'\n",
    "        characters long.  If no such overlap exists,\n",
    "        return 0. \"\"\"\n",
    "    start = 0  # start all the way at the left\n",
    "    while True:\n",
    "        start = a.find(b[:min_length], start)  # look for b's suffx in a\n",
    "        if start == -1:  # no more occurrences to right\n",
    "            return 0\n",
    "        # found occurrence; check for full suffix/prefix match\n",
    "        if b.startswith(a[start:]):\n",
    "            return len(a)-start\n",
    "        start += 1  # move just past previous match\n",
    "\n",
    "import itertools\n",
    "\n",
    "def scs(ss):\n",
    "    \"\"\" Returns shortest common superstring of given\n",
    "        strings, which must be the same length \"\"\"\n",
    "    shortest_sup = None\n",
    "    for ssperm in itertools.permutations(ss):\n",
    "        sup = ssperm[0]  # superstring starts as first string\n",
    "        for i in range(len(ss)-1):\n",
    "            # overlap adjacent strings A and B in the permutation\n",
    "            olen = overlap(ssperm[i], ssperm[i+1], min_length=1)\n",
    "            # add non-overlapping portion of B to superstring\n",
    "            sup += ssperm[i+1][olen:]\n",
    "        if shortest_sup is None or len(sup) < len(shortest_sup):\n",
    "            shortest_sup = sup  # found shorter superstring\n",
    "    return shortest_sup  # return shortest"
   ]
  },
  {
   "cell_type": "code",
   "execution_count": 8,
   "id": "4d26dc03-dd91-425f-987a-084a09713c69",
   "metadata": {},
   "outputs": [
    {
     "data": {
      "text/plain": [
       "11"
      ]
     },
     "execution_count": 8,
     "metadata": {},
     "output_type": "execute_result"
    }
   ],
   "source": [
    "# Question 1\n",
    "len(scs([\"CCT\", \"CTT\", \"TGC\", \"TGG\", \"GAT\", \"ATT\"]))"
   ]
  },
  {
   "cell_type": "code",
   "execution_count": 9,
   "id": "840a2393-7a89-4ef1-b723-6cc15f8fea81",
   "metadata": {},
   "outputs": [],
   "source": [
    "def scs_all_versions(ss):\n",
    "    \"\"\" Returns every version of shortest common superstring of given\n",
    "        strings, which must be the same length \"\"\"\n",
    "    shortest_sup_list = set()\n",
    "    shortest_sup_len = 0\n",
    "    for ssperm in itertools.permutations(ss):\n",
    "        sup = ssperm[0]  # superstring starts as first string\n",
    "        for i in range(len(ss)-1):\n",
    "            # overlap adjacent strings A and B in the permutation\n",
    "            olen = overlap(ssperm[i], ssperm[i+1], min_length=1)\n",
    "            # add non-overlapping portion of B to superstring\n",
    "            sup += ssperm[i+1][olen:]\n",
    "        # Process of evaluating and adding to the set\n",
    "        if not bool(shortest_sup_list) or shortest_sup_len == len(sup):\n",
    "            shortest_sup_list.add(sup)\n",
    "            shortest_sup_len = len(sup)\n",
    "        elif shortest_sup_len > len(sup):\n",
    "            shortest_sup_list.clear()\n",
    "            shortest_sup_list.add(sup)\n",
    "            shortest_sup_len = len(sup)\n",
    "    return shortest_sup_list, shortest_sup_len  # return shortest"
   ]
  },
  {
   "cell_type": "code",
   "execution_count": 10,
   "id": "3916dc71-33a7-4d6c-9a96-2477c620a9ad",
   "metadata": {},
   "outputs": [],
   "source": [
    "# Question 2\n",
    "shortest_sup_list, shortest_sup_len = scs_all_versions([\"CCT\", \"CTT\", \"TGC\", \"TGG\", \"GAT\", \"ATT\"])"
   ]
  },
  {
   "cell_type": "code",
   "execution_count": 11,
   "id": "c9aa759e-1332-48ef-a523-ab52c29eeb0d",
   "metadata": {},
   "outputs": [
    {
     "data": {
      "text/plain": [
       "{'CCTTGGATTGC', 'GATTGCCTTGG', 'TGCCTTGGATT', 'TGGATTGCCTT'}"
      ]
     },
     "execution_count": 11,
     "metadata": {},
     "output_type": "execute_result"
    }
   ],
   "source": [
    "shortest_sup_list"
   ]
  },
  {
   "cell_type": "code",
   "execution_count": 12,
   "id": "c1cba4ac-00e2-4b09-9570-90745c9e3ea9",
   "metadata": {},
   "outputs": [
    {
     "data": {
      "text/plain": [
       "4"
      ]
     },
     "execution_count": 12,
     "metadata": {},
     "output_type": "execute_result"
    }
   ],
   "source": [
    "len(shortest_sup_list)"
   ]
  },
  {
   "cell_type": "code",
   "execution_count": 13,
   "id": "641278f8-6956-497d-8023-bb9301b9558b",
   "metadata": {},
   "outputs": [],
   "source": [
    "# !wget https://d28rh4a8wq0iu5.cloudfront.net/ads1/data/ads1_week4_reads.fq"
   ]
  },
  {
   "cell_type": "code",
   "execution_count": 14,
   "id": "72125458-a2ab-4154-9bc7-7b6ded5a0cca",
   "metadata": {},
   "outputs": [],
   "source": [
    "class DenovoAssembly:\n",
    "    def __init__(self, reads, min_len = 3):\n",
    "        self.min_len = min_len\n",
    "        self.reads = reads\n",
    "        self.k_mer_map = dict()\n",
    "        self.overlap_map = []\n",
    "        self.overlap_lenmap = []\n",
    "\n",
    "    def analyze_kmer_reads(self):\n",
    "        for read in self.reads:\n",
    "            k_mer_set = set()\n",
    "            for i in range(len(read) - self.min_len + 1):\n",
    "                k_mer_set.add(read[i:i+self.min_len])\n",
    "            self.k_mer_map[read] = k_mer_set\n",
    "\n",
    "    def assemble(self):\n",
    "        self.analyze_kmer_reads()\n",
    "        k_mer_map_keys = list(self.k_mer_map.keys())\n",
    "        for i in range(len(self.k_mer_map)):\n",
    "            current_read = k_mer_map_keys[i]\n",
    "            for j in range(len(self.k_mer_map)):\n",
    "                compared_read = k_mer_map_keys[j]\n",
    "                if (compared_read[:self.min_len] not in self.k_mer_map[current_read]) or i == j:\n",
    "                    continue\n",
    "                else:\n",
    "                    overlap_len = overlap(current_read, compared_read, min_length=self.min_len)\n",
    "                    if overlap_len > 0:\n",
    "                        self.overlap_map.append((current_read, compared_read))\n",
    "                        self.overlap_lenmap.append(overlap_len)\n",
    "        return self.overlap_map\n",
    "\n",
    "    def get_overlaplenmap(self):\n",
    "        return self.overlap_lenmap"
   ]
  },
  {
   "cell_type": "code",
   "execution_count": 15,
   "id": "619cb25e-03b8-4124-9604-31e75692d9db",
   "metadata": {},
   "outputs": [],
   "source": [
    "def read_fastq(filename):\n",
    "    sequences = []\n",
    "    qualities = []\n",
    "    with open(filename, \"r\") as fh:\n",
    "        while True:\n",
    "            fh.readline()\n",
    "            seq = fh.readline().rstrip()\n",
    "            fh.readline()\n",
    "            Q_encoded = fh.readline().rstrip()\n",
    "            if len(seq) == 0:\n",
    "                break\n",
    "            sequences.append(seq)\n",
    "            qualities.append(Q_encoded)\n",
    "    return sequences, qualities"
   ]
  },
  {
   "cell_type": "code",
   "execution_count": 16,
   "id": "370015f7-9b68-4f0e-b9a7-7d24e3212721",
   "metadata": {},
   "outputs": [],
   "source": [
    "sequences, qualities = read_fastq(\"ads1_week4_reads.fq\")"
   ]
  },
  {
   "cell_type": "code",
   "execution_count": 26,
   "id": "f9564a7f-f282-4bf3-8747-244db485ed2e",
   "metadata": {},
   "outputs": [],
   "source": [
    "# Greedy shortest common string algorithm\n",
    "def find_max_overlap(reads, min_len_overlap=1):\n",
    "    max_overlap_length = 0\n",
    "    read_a_max, read_b_max = None, None\n",
    "    assem_obj = DenovoAssembly(reads, 30)\n",
    "    assembler = assem_obj.assemble()\n",
    "    olenmap = assem_obj.get_overlaplenmap()\n",
    "    for i in range(len(assembler)):\n",
    "        read_a = assembler[i][0]\n",
    "        read_b = assembler[i][1]\n",
    "        overlap_len = olenmap[i]\n",
    "        if max_overlap_length < overlap_len:\n",
    "            max_overlap_length = overlap_len\n",
    "            read_a_max = read_a\n",
    "            read_b_max = read_b\n",
    "    del assem_obj\n",
    "    return read_a_max, read_b_max, max_overlap_length\n",
    "\n",
    "def greedy_SCS(reads, min_len_overlap):\n",
    "    read_a, read_b, max_overlap_len = find_max_overlap(reads, min_len_overlap)\n",
    "    while max_overlap_len > 0: # If there is no more overlap in the read list, just concat them together!\n",
    "        reads.remove(read_a)\n",
    "        reads.remove(read_b)\n",
    "        reads.append(read_a + read_b[max_overlap_len:])\n",
    "        read_a, read_b, max_overlap_len = find_max_overlap(reads, min_len_overlap)\n",
    "    return \"\".join(reads)"
   ]
  },
  {
   "cell_type": "code",
   "execution_count": 27,
   "id": "f1ec9458-bc9f-4913-b19b-c9c76d7e189c",
   "metadata": {},
   "outputs": [],
   "source": [
    "synthetic_genome = greedy_SCS(sequences, 1)"
   ]
  },
  {
   "cell_type": "code",
   "execution_count": 28,
   "id": "207f64b9-d226-4d85-bb82-5f0cdec34e36",
   "metadata": {},
   "outputs": [
    {
     "name": "stdout",
     "output_type": "stream",
     "text": [
      "15894\n"
     ]
    }
   ],
   "source": [
    "print(len(synthetic_genome))"
   ]
  },
  {
   "cell_type": "code",
   "execution_count": 30,
   "id": "23915af2-9531-46b1-94d1-d94af51a2c42",
   "metadata": {},
   "outputs": [
    {
     "name": "stdout",
     "output_type": "stream",
     "text": [
      "4633\n",
      "3723\n"
     ]
    }
   ],
   "source": [
    "# Question 3 & 4\n",
    "A = 0\n",
    "T = 0\n",
    "for base in synthetic_genome:\n",
    "    if base == \"A\":\n",
    "        A += 1\n",
    "    elif base == \"T\":\n",
    "        T += 1\n",
    "print(A)\n",
    "print(T)"
   ]
  },
  {
   "cell_type": "code",
   "execution_count": null,
   "id": "2c8f0c74-28fd-49a0-a4a0-0728eda883c1",
   "metadata": {},
   "outputs": [],
   "source": []
  },
  {
   "cell_type": "code",
   "execution_count": null,
   "id": "0250e781-16ba-4b31-990e-af990b3b47c3",
   "metadata": {},
   "outputs": [],
   "source": []
  }
 ],
 "metadata": {
  "kernelspec": {
   "display_name": "Python 3 (ipykernel)",
   "language": "python",
   "name": "python3"
  },
  "language_info": {
   "codemirror_mode": {
    "name": "ipython",
    "version": 3
   },
   "file_extension": ".py",
   "mimetype": "text/x-python",
   "name": "python",
   "nbconvert_exporter": "python",
   "pygments_lexer": "ipython3",
   "version": "3.12.8"
  }
 },
 "nbformat": 4,
 "nbformat_minor": 5
}
