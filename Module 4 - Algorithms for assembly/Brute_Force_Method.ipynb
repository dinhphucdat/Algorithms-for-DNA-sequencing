{
 "cells": [
  {
   "cell_type": "code",
   "execution_count": 1,
   "id": "e38e53ec-9bf0-41b3-8922-ad8303153f92",
   "metadata": {},
   "outputs": [],
   "source": [
    "def overlap(seq_a, seq_b, minlength):\n",
    "    start = 0; # starts all the way to the left\n",
    "    while (True):\n",
    "        start = seq_a.find(seq_b[:minlength], start) # looks for b's suffix in a\n",
    "        if start == -1: # no more occurrences to the right\n",
    "            return 0\n",
    "            # found occurrences, checks for full suffix-prefix match\n",
    "        if seq_b.startswith(seq_a[start:]):\n",
    "            return len(seq_a) - start\n",
    "        start += 1 # Moves just past the previous match"
   ]
  },
  {
   "cell_type": "code",
   "execution_count": 2,
   "id": "7550f3d0-799e-494f-9093-bb570b300c68",
   "metadata": {},
   "outputs": [],
   "source": [
    "from itertools import permutations"
   ]
  },
  {
   "cell_type": "code",
   "execution_count": 5,
   "id": "dadb312c-5d2a-4924-90d1-00e974f16fc3",
   "metadata": {},
   "outputs": [],
   "source": [
    "def brute_force_assembly(reads):\n",
    "    \"\"\"\n",
    "    Compute shortest common superstrings from permutation of reads\n",
    "    \"\"\"\n",
    "    overlap_map = dict()\n",
    "    shortest_superstring = None\n",
    "    for read in permutations(reads):\n",
    "        current_superstring = read[0]\n",
    "        for i in range(len(read) - 1):\n",
    "            overlap_len = overlap(read[i], read[i + 1], 1)\n",
    "            # We also have to concatenate two substrings even though they have no overlaps\n",
    "            current_superstring += read[i + 1][overlap_len:]\n",
    "        if shortest_superstring is None or len(current_superstring) < len(shortest_superstring):\n",
    "            shortest_superstring = current_superstring\n",
    "    return shortest_superstring"
   ]
  },
  {
   "cell_type": "code",
   "execution_count": 6,
   "id": "2ee20b6d-520f-488d-a413-25e005ee7ac2",
   "metadata": {},
   "outputs": [
    {
     "data": {
      "text/plain": [
       "'GACACGGTACGAGCTTCGGA'"
      ]
     },
     "execution_count": 6,
     "metadata": {},
     "output_type": "execute_result"
    }
   ],
   "source": [
    "brute_force_assembly([\"ACGGTACGAGC\", \"GAGCTTCGGA\", \"GACACGG\"])"
   ]
  },
  {
   "cell_type": "code",
   "execution_count": null,
   "id": "dd5d6d40-1328-4b23-b449-927cdc7fc858",
   "metadata": {},
   "outputs": [],
   "source": []
  }
 ],
 "metadata": {
  "kernelspec": {
   "display_name": "Python 3 (ipykernel)",
   "language": "python",
   "name": "python3"
  },
  "language_info": {
   "codemirror_mode": {
    "name": "ipython",
    "version": 3
   },
   "file_extension": ".py",
   "mimetype": "text/x-python",
   "name": "python",
   "nbconvert_exporter": "python",
   "pygments_lexer": "ipython3",
   "version": "3.12.8"
  }
 },
 "nbformat": 4,
 "nbformat_minor": 5
}
