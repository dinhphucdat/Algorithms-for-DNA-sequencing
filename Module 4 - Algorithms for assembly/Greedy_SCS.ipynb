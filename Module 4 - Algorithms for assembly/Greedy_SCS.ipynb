{
 "cells": [
  {
   "cell_type": "code",
   "execution_count": 1,
   "id": "9f9c4a8b-c033-492e-bfab-bad3f72483e4",
   "metadata": {},
   "outputs": [],
   "source": [
    "def overlap(seq_a, seq_b, minlength):\n",
    "    start = 0; # starts all the way to the left\n",
    "    while (True):\n",
    "        start = seq_a.find(seq_b[:minlength], start) # looks for b's suffix in a\n",
    "        if start == -1: # no more occurrences to the right\n",
    "            return 0\n",
    "            # found occurrences, checks for full suffix-prefix match\n",
    "        if seq_b.startswith(seq_a[start:]):\n",
    "            return len(seq_a) - start\n",
    "        start += 1 # Moves just past the previous match"
   ]
  },
  {
   "cell_type": "code",
   "execution_count": 4,
   "id": "95ccc50f-4599-4453-a996-ad939bcb63c5",
   "metadata": {},
   "outputs": [],
   "source": [
    "from itertools import permutations\n",
    "# Brute force shortest common string algorithm\n",
    "def brute_force_assembly(reads):\n",
    "    \"\"\"\n",
    "    Compute shortest common superstrings from permutation of reads\n",
    "    \"\"\"\n",
    "    overlap_map = dict()\n",
    "    shortest_superstring = None\n",
    "    for read in permutations(reads):\n",
    "        current_superstring = read[0]\n",
    "        for i in range(len(read) - 1):\n",
    "            overlap_len = overlap(read[i], read[i + 1], 1)\n",
    "            # We also have to concatenate two substrings even though they have no overlaps\n",
    "            current_superstring += read[i + 1][overlap_len:]\n",
    "        if shortest_superstring is None or len(current_superstring) < len(shortest_superstring):\n",
    "            shortest_superstring = current_superstring\n",
    "    return shortest_superstring"
   ]
  },
  {
   "cell_type": "code",
   "execution_count": 5,
   "id": "d02833c0-cbd4-4e55-8172-3e9fcf508eb8",
   "metadata": {},
   "outputs": [],
   "source": [
    "# Greedy shortest common string algorithm\n",
    "def find_max_overlap(reads, min_len_overlap=2):\n",
    "    max_overlap_length = 0\n",
    "    read_a_max, read_b_max = None, None\n",
    "    for read_a, read_b in permutations(reads, 2): # permutation of 2 to choose the pair of reads\n",
    "        overlap_len = overlap(read_a, read_b, min_len_overlap)\n",
    "        if max_overlap_length < overlap_len:\n",
    "            max_overlap_length = overlap_len\n",
    "            read_a_max = read_a\n",
    "            read_b_max = read_b\n",
    "    return read_a_max, read_b_max, max_overlap_length\n",
    "\n",
    "def greedy_SCS(reads, min_len_overlap):\n",
    "    read_a, read_b, max_overlap_len = find_max_overlap(reads, min_len_overlap)\n",
    "    while max_overlap_len > 0: # If there is no more overlap in the read list, just concat them together!\n",
    "        reads.remove(read_a)\n",
    "        reads.remove(read_b)\n",
    "        reads.append(read_a + read_b[max_overlap_len:])\n",
    "        read_a, read_b, max_overlap_len = find_max_overlap(reads, min_len_overlap)\n",
    "    return \"\".join(reads)"
   ]
  },
  {
   "cell_type": "code",
   "execution_count": 7,
   "id": "a849408a-14f2-4667-a85a-25425d5d0534",
   "metadata": {},
   "outputs": [
    {
     "data": {
      "text/plain": [
       "'CABCA'"
      ]
     },
     "execution_count": 7,
     "metadata": {},
     "output_type": "execute_result"
    }
   ],
   "source": [
    "greedy_SCS([\"ABC\", \"BCA\", \"CAB\"], 2)"
   ]
  },
  {
   "cell_type": "code",
   "execution_count": 8,
   "id": "3a1ebd81-a5f4-4cb6-920f-e8f7cdc004b8",
   "metadata": {},
   "outputs": [
    {
     "data": {
      "text/plain": [
       "'CDBCABCDA'"
      ]
     },
     "execution_count": 8,
     "metadata": {},
     "output_type": "execute_result"
    }
   ],
   "source": [
    "greedy_SCS([\"ABCD\", \"CDBC\", \"BCDA\"], 1) # This doesn't give the shortest common string!"
   ]
  },
  {
   "cell_type": "code",
   "execution_count": null,
   "id": "d0f2a73b-9f16-4856-8f8f-095ca5a6e74a",
   "metadata": {},
   "outputs": [],
   "source": []
  }
 ],
 "metadata": {
  "kernelspec": {
   "display_name": "Python 3 (ipykernel)",
   "language": "python",
   "name": "python3"
  },
  "language_info": {
   "codemirror_mode": {
    "name": "ipython",
    "version": 3
   },
   "file_extension": ".py",
   "mimetype": "text/x-python",
   "name": "python",
   "nbconvert_exporter": "python",
   "pygments_lexer": "ipython3",
   "version": "3.12.8"
  }
 },
 "nbformat": 4,
 "nbformat_minor": 5
}
