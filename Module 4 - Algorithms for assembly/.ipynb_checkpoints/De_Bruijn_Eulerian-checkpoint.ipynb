{
 "cells": [
  {
   "cell_type": "code",
   "execution_count": null,
   "id": "4f5d6a5a-0257-49bd-8467-4823c11b48cc",
   "metadata": {},
   "outputs": [],
   "source": [
    "# Build a bruijn graph"
   ]
  },
  {
   "cell_type": "code",
   "execution_count": 3,
   "id": "822f67a2-c41e-492f-9ca0-5abc4f7a4be6",
   "metadata": {},
   "outputs": [],
   "source": [
    "def de_bruijn_ize(genome, kmer):\n",
    "    nodes = set()\n",
    "    edges = list()\n",
    "    for i in range(len(genome) - kmer + 1):\n",
    "        kmer_minus1left = genome[i:i+(kmer-1)]\n",
    "        kmer_minus1right = genome[i+1:i+kmer]\n",
    "        nodes.add(kmer_minus1left)\n",
    "        nodes.add(kmer_minus1right)\n",
    "        edges.append((kmer_minus1left, kmer_minus1right))\n",
    "    return (nodes, edges)"
   ]
  },
  {
   "cell_type": "code",
   "execution_count": 4,
   "id": "92152167-e2ce-4090-a5ec-c0207366225d",
   "metadata": {},
   "outputs": [
    {
     "name": "stdout",
     "output_type": "stream",
     "text": [
      "{'GT', 'TC', 'GC', 'CG', 'AC'}\n",
      "\n",
      "[('AC', 'CG'), ('CG', 'GC'), ('GC', 'CG'), ('CG', 'GT'), ('GT', 'TC'), ('TC', 'CG')]\n"
     ]
    }
   ],
   "source": [
    "nodes, edges = de_bruijn_ize(\"ACGCGTCG\", 3)\n",
    "print(nodes)\n",
    "print()\n",
    "print(edges)"
   ]
  },
  {
   "cell_type": "code",
   "execution_count": null,
   "id": "33a933b5-0df5-4716-aeb2-5a820cefd74a",
   "metadata": {},
   "outputs": [],
   "source": []
  }
 ],
 "metadata": {
  "kernelspec": {
   "display_name": "Python 3 (ipykernel)",
   "language": "python",
   "name": "python3"
  },
  "language_info": {
   "codemirror_mode": {
    "name": "ipython",
    "version": 3
   },
   "file_extension": ".py",
   "mimetype": "text/x-python",
   "name": "python",
   "nbconvert_exporter": "python",
   "pygments_lexer": "ipython3",
   "version": "3.12.8"
  }
 },
 "nbformat": 4,
 "nbformat_minor": 5
}
