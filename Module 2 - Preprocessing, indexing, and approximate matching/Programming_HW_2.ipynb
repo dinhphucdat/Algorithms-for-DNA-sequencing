{
 "cells": [
  {
   "cell_type": "code",
   "execution_count": 1,
   "id": "f352a9bf-86ea-464d-92d7-53d9821c7144",
   "metadata": {},
   "outputs": [
    {
     "name": "stdout",
     "output_type": "stream",
     "text": [
      "--2025-02-10 15:49:10--  http://d28rh4a8wq0iu5.cloudfront.net/ads1/data/chr1.GRCh38.excerpt.fasta\n",
      "Resolving d28rh4a8wq0iu5.cloudfront.net (d28rh4a8wq0iu5.cloudfront.net)... 13.227.44.33, 13.227.44.207, 13.227.44.91, ...\n",
      "Connecting to d28rh4a8wq0iu5.cloudfront.net (d28rh4a8wq0iu5.cloudfront.net)|13.227.44.33|:80... connected.\n",
      "200 OKequest sent, awaiting response... \n",
      "Length: 810105 (791K) [application/octet-stream]\n",
      "Saving to: ‘chr1.GRCh38.excerpt.fasta’\n",
      "\n",
      "chr1.GRCh38.excerpt 100%[===================>] 791.12K  --.-KB/s    in 0.06s   \n",
      "\n",
      "2025-02-10 15:49:11 (12.4 MB/s) - ‘chr1.GRCh38.excerpt.fasta’ saved [810105/810105]\n",
      "\n"
     ]
    }
   ],
   "source": [
    "!wget http://d28rh4a8wq0iu5.cloudfront.net/ads1/data/chr1.GRCh38.excerpt.fasta"
   ]
  },
  {
   "cell_type": "code",
   "execution_count": 4,
   "id": "39cb2245-ad6e-42d1-b8ce-28e3884af547",
   "metadata": {},
   "outputs": [],
   "source": [
    "# Naive exact method - with the times the function did the comparisons\n",
    "def naive_with_counts(whole_genome : str, reference : str):\n",
    "    matching_offsets = []\n",
    "    outer_loop_len = len(whole_genome) - len(reference) + 1\n",
    "    times = 0\n",
    "    alignments = 0\n",
    "    for i in range(outer_loop_len):\n",
    "        matched = True\n",
    "        alignments += 1\n",
    "        for j in range(len(reference)):\n",
    "            times += 1\n",
    "            if whole_genome[i + j] != reference[j]:\n",
    "                matched = False\n",
    "                break\n",
    "        if matched:\n",
    "            matching_offsets.append(i)\n",
    "    return matching_offsets, alignments, times"
   ]
  },
  {
   "cell_type": "code",
   "execution_count": 5,
   "id": "acb91e91-887b-4dea-a26a-a3a536ed94d3",
   "metadata": {},
   "outputs": [
    {
     "name": "stdout",
     "output_type": "stream",
     "text": [
      "[40] 12 15\n",
      "[0, 19] 5 18\n"
     ]
    }
   ],
   "source": [
    "from bm_preproc import BoyerMoore\n",
    "def boyer_moore_with_counts(p, p_bm : BoyerMoore, t):\n",
    "    \"\"\" Do Boyer-Moore matching. p=pattern, t=text,\n",
    "        p_bm=BoyerMoore object for p \"\"\"\n",
    "    i = 0\n",
    "    occurrences = []\n",
    "    times = 0\n",
    "    alignments = 0\n",
    "    while i < len(t) - len(p) + 1:\n",
    "        shift = 1\n",
    "        mismatched = False\n",
    "        alignments += 1\n",
    "        for j in range(len(p)-1, -1, -1):\n",
    "            times += 1\n",
    "            if p[j] != t[i+j]:\n",
    "                skip_bc = p_bm.bad_character_rule(j, t[i+j])\n",
    "                skip_gs = p_bm.good_suffix_rule(j)\n",
    "                shift = max(shift, skip_bc, skip_gs)\n",
    "                mismatched = True\n",
    "                break\n",
    "        if not mismatched:\n",
    "            occurrences.append(i)\n",
    "            skip_gs = p_bm.match_skip()\n",
    "            shift = max(shift, skip_gs)\n",
    "        i += shift\n",
    "    return occurrences, alignments, times"
   ]
  },
  {
   "cell_type": "code",
   "execution_count": 6,
   "id": "45145f2d-cfd4-4774-817b-4e5a9086bf3e",
   "metadata": {},
   "outputs": [
    {
     "name": "stdout",
     "output_type": "stream",
     "text": [
      "[40] 41 46\n"
     ]
    }
   ],
   "source": [
    "p = 'word'\n",
    "t = 'there would have been a time for such a word'\n",
    "occurrences, num_alignments, num_character_comparisons = naive_with_counts(t, p)\n",
    "print(occurrences, num_alignments, num_character_comparisons)"
   ]
  },
  {
   "cell_type": "code",
   "execution_count": 7,
   "id": "1cc1810f-b09a-49c5-8af4-90c3a5499ea5",
   "metadata": {},
   "outputs": [
    {
     "name": "stdout",
     "output_type": "stream",
     "text": [
      "[0, 19] 20 35\n"
     ]
    }
   ],
   "source": [
    "p = 'needle'\n",
    "t = 'needle need noodle needle'\n",
    "occurrences, num_alignments, num_character_comparisons = naive_with_counts(t, p)\n",
    "print(occurrences, num_alignments, num_character_comparisons)"
   ]
  },
  {
   "cell_type": "code",
   "execution_count": 8,
   "id": "006abc57-accd-4ab0-b8eb-03734a0d40c6",
   "metadata": {},
   "outputs": [],
   "source": [
    "# Question 1\n",
    "p_human = \"GGCGCGGTGGCTCACGCCTGTAATCCCAGCACTTTGGGAGGCCGAGG\"\n",
    "with open(\"chr1.GRCh38.excerpt.fasta\", \"r\") as f:\n",
    "    global chrom_1_genome\n",
    "    chrom_1_genome = \"\".join([line.rstrip() for line in f if line[0] != \">\"])\n",
    "\n"
   ]
  },
  {
   "cell_type": "code",
   "execution_count": 9,
   "id": "8a2d4bbe-b65e-4104-86e4-fa39fe2d49b1",
   "metadata": {},
   "outputs": [
    {
     "name": "stdout",
     "output_type": "stream",
     "text": [
      "[56922] 799954 984143\n"
     ]
    }
   ],
   "source": [
    "occurrences, num_alignments, num_character_comparisons = naive_with_counts(chrom_1_genome, p_human)\n",
    "print(occurrences, num_alignments, num_character_comparisons)"
   ]
  },
  {
   "cell_type": "code",
   "execution_count": 10,
   "id": "1e8f4368-c5c0-42c7-b503-298fe887d7f4",
   "metadata": {},
   "outputs": [
    {
     "name": "stdout",
     "output_type": "stream",
     "text": [
      "[56922] 127974 165191\n"
     ]
    }
   ],
   "source": [
    "# Question 2\n",
    "p_bm = BoyerMoore(p_human, alphabet=\"ACGT\")\n",
    "occurrences, num_alignments, num_character_comparisons = boyer_moore_with_counts(p_human, p_bm, chrom_1_genome)\n",
    "print(occurrences, num_alignments, num_character_comparisons)"
   ]
  },
  {
   "cell_type": "code",
   "execution_count": 11,
   "id": "69d5a21b-a5cc-4254-bb98-03000297753a",
   "metadata": {},
   "outputs": [],
   "source": [
    "# Question 3\n",
    "class Index(object):\n",
    "    def __init__(self, t, k):\n",
    "        ''' Create index from all substrings of size 'length' '''\n",
    "        self.k = k  # k-mer length (k)\n",
    "        self.index = []\n",
    "        for i in range(len(t) - k + 1):  # for each k-mer\n",
    "            self.index.append((t[i:i+k], i))  # add (k-mer, offset) pair\n",
    "        self.index.sort()  # alphabetize by k-mer\n",
    "    \n",
    "    def query(self, p):\n",
    "        ''' Return index hits for first k-mer of P '''\n",
    "        kmer = p[:self.k]  # query with first k-mer\n",
    "        i = bisect.bisect_left(self.index, (kmer, -1))  # binary search\n",
    "        hits = []\n",
    "        while i < len(self.index):  # collect matching index entries\n",
    "            if self.index[i][0] != kmer:\n",
    "                break\n",
    "            hits.append(self.index[i][1])\n",
    "            i += 1\n",
    "        return hits"
   ]
  },
  {
   "cell_type": "code",
   "execution_count": 12,
   "id": "71463e35-6913-42ae-9b61-a3bfead3e0b6",
   "metadata": {},
   "outputs": [],
   "source": [
    "def approximate_match(pattern, text, max_num_mismatch):\n",
    "    \"\"\"\n",
    "    divides the pattern into (max_num_mismatch + 1) partisans\n",
    "    so at least one partisan will be intact\n",
    "    \"\"\"\n",
    "    num_partisans = max_num_mismatch + 1\n",
    "    length_per_partisan = round(len(pattern) / num_partisans)\n",
    "    all_matches = set()\n",
    "    for i in range(num_partisans):\n",
    "        start = i * length_per_partisan\n",
    "        end = min((i+1) * length_per_partisan, len(pattern))\n",
    "        boyer_moore_obj = BoyerMoore(pattern[start:end], alphabet=\"ACGT\")\n",
    "        matches = boyer_moore(pattern[start:end], boyer_moore_obj, text)\n",
    "        for m in matches:\n",
    "            if m < start or m - start + len(pattern) > len(text):\n",
    "                continue\n",
    "            mismatches = 0\n",
    "            for j in range(0, start):\n",
    "                if pattern[j] != text[m - start + j]:\n",
    "                    mismatches += 1\n",
    "                    if mismatches > max_num_mismatch:\n",
    "                        break\n",
    "            for j_end in range(end, len(pattern)):\n",
    "                if pattern[j_end] != text[m - start + j_end]:\n",
    "                    mismatches += 1\n",
    "                    if mismatches > max_num_mismatch:\n",
    "                        break\n",
    "            if mismatches <= 2:\n",
    "                all_matches.add(m - start)\n",
    "    return list(all_matches)\n",
    "\n",
    "def boyer_moore(p, p_bm, t):\n",
    "    \"\"\" Do Boyer-Moore matching \"\"\"\n",
    "    i = 0\n",
    "    occurrences = []\n",
    "    while i < len(t) - len(p) + 1:\n",
    "        shift = 1\n",
    "        mismatched = False\n",
    "        for j in range(len(p)-1, -1, -1):\n",
    "            if p[j] != t[i+j]:\n",
    "                skip_bc = p_bm.bad_character_rule(j, t[i+j])\n",
    "                skip_gs = p_bm.good_suffix_rule(j)\n",
    "                shift = max(shift, skip_bc, skip_gs)\n",
    "                mismatched = True\n",
    "                break\n",
    "        if not mismatched:\n",
    "            occurrences.append(i)\n",
    "            skip_gs = p_bm.match_skip()\n",
    "            shift = max(shift, skip_gs)\n",
    "        i += shift\n",
    "    return occurrences"
   ]
  },
  {
   "cell_type": "code",
   "execution_count": 13,
   "id": "6bda1e96-8706-49e0-97f3-3d8e0bc17c87",
   "metadata": {},
   "outputs": [
    {
     "data": {
      "text/plain": [
       "19"
      ]
     },
     "execution_count": 13,
     "metadata": {},
     "output_type": "execute_result"
    }
   ],
   "source": [
    "len(approximate_match(\"GGCGCGGTGGCTCACGCCTGTAAT\", chrom_1_genome, 2))"
   ]
  },
  {
   "cell_type": "code",
   "execution_count": 14,
   "id": "689c87da-eb57-476e-94d4-99c3cd69ec6b",
   "metadata": {},
   "outputs": [],
   "source": [
    "# Question 4\n",
    "def approximate_match_list(pattern, text, max_num_mismatch):\n",
    "    \"\"\"\n",
    "    divides the pattern into (max_num_mismatch + 1) partisans\n",
    "    so at least one partisan will be intact\n",
    "    \"\"\"\n",
    "    num_partisans = max_num_mismatch + 1\n",
    "    length_per_partisan = round(len(pattern) / num_partisans)\n",
    "    all_matches = set()\n",
    "    index_hits = 0\n",
    "    for i in range(num_partisans):\n",
    "        start = i * length_per_partisan\n",
    "        end = min((i+1) * length_per_partisan, len(pattern))\n",
    "        boyer_moore_obj = BoyerMoore(pattern[start:end], alphabet=\"ACGT\")\n",
    "        matches = boyer_moore(pattern[start:end], boyer_moore_obj, text)\n",
    "        index_hits += len(matches) # index hits means how many results after the query but not verified yet!!\n",
    "        for m in matches:\n",
    "            if m < start or m - start + len(pattern) > len(text):\n",
    "                continue\n",
    "            mismatches = 0\n",
    "            for j in range(0, start):\n",
    "                if pattern[j] != text[m - start + j]:\n",
    "                    mismatches += 1\n",
    "                    if mismatches > max_num_mismatch:\n",
    "                        break\n",
    "            for j_end in range(end, len(pattern)):\n",
    "                if pattern[j_end] != text[m - start + j_end]:\n",
    "                    mismatches += 1\n",
    "                    if mismatches > max_num_mismatch:\n",
    "                        break\n",
    "            if mismatches <= 2:\n",
    "                all_matches.add(m - start)\n",
    "    return all_matches, index_hits"
   ]
  },
  {
   "cell_type": "code",
   "execution_count": 15,
   "id": "5ac695b4-d02f-4699-b4d7-486cd7642897",
   "metadata": {},
   "outputs": [],
   "source": [
    "occurences, hitsss = approximate_match_list(\"GGCGCGGTGGCTCACGCCTGTAAT\", chrom_1_genome, 2)"
   ]
  },
  {
   "cell_type": "code",
   "execution_count": 16,
   "id": "f6018928-b42d-4474-b531-e96822e299e1",
   "metadata": {},
   "outputs": [
    {
     "data": {
      "text/plain": [
       "90"
      ]
     },
     "execution_count": 16,
     "metadata": {},
     "output_type": "execute_result"
    }
   ],
   "source": [
    "hitsss"
   ]
  },
  {
   "cell_type": "code",
   "execution_count": 2,
   "id": "d4d8f2d8-7352-4173-b75e-3783044dcef8",
   "metadata": {},
   "outputs": [],
   "source": [
    "import bisect\n",
    "   \n",
    "class SubseqIndex(object):\n",
    "    \"\"\" Holds a subsequence index for a text T \"\"\"\n",
    "    \n",
    "    def __init__(self, t, k, ival):\n",
    "        \"\"\" Create index from all subsequences consisting of k characters\n",
    "            spaced ival positions apart.  E.g., SubseqIndex(\"ATAT\", 2, 2)\n",
    "            extracts (\"AA\", 0) and (\"TT\", 1). \"\"\"\n",
    "        self.k = k  # num characters per subsequence extracted\n",
    "        self.ival = ival  # space between them; 1=adjacent, 2=every other, etc\n",
    "        self.index = []\n",
    "        self.span = 1 + ival * (k - 1)\n",
    "        for i in range(len(t) - self.span + 1):  # for each subseq\n",
    "            self.index.append((t[i:i+self.span:ival], i))  # add (subseq, offset)\n",
    "        self.index.sort()  # alphabetize by subseq\n",
    "    \n",
    "    def query(self, p):\n",
    "        \"\"\" Return index hits for first subseq of p \"\"\"\n",
    "        subseq = p[:self.span:self.ival]  # query with first subseq\n",
    "        i = bisect.bisect_left(self.index, (subseq, -1))  # binary search\n",
    "        hits = []\n",
    "        while i < len(self.index):  # collect matching index entries\n",
    "            if self.index[i][0] != subseq:\n",
    "                break\n",
    "            hits.append(self.index[i][1])\n",
    "            i += 1\n",
    "        return hits\n"
   ]
  },
  {
   "cell_type": "code",
   "execution_count": 3,
   "id": "91c1b40a-d6af-41ff-93c2-9758a8d4775b",
   "metadata": {},
   "outputs": [],
   "source": [
    "# use pigeonhole\n",
    "def approximate_subseq(pattern, text, subseq_obj: SubseqIndex, max_num_mismatches=2):\n",
    "    occurrences = set()\n",
    "    index_hits_total = 0\n",
    "    if subseq_obj.k * subseq_obj.ival != len(pattern):\n",
    "        raise RuntimeError(\"Subsequences cannot cover every character of the pattern\")\n",
    "\n",
    "    index_hits_per_subseq = subseq_obj.query(pattern) # get the 1st subseq\n",
    "    \n",
    "    for i in range(subseq_obj.ival):\n",
    "        if i != 0:\n",
    "            subseq = pattern[i:i+subseq_obj.span:subseq_obj.ival]\n",
    "            raw_index = bisect.bisect_left(subseq_obj.index, (subseq, -1))  # binary search\n",
    "            hits = []\n",
    "            while raw_index < len(subseq_obj.index):  # collect matching index entries\n",
    "                if subseq_obj.index[raw_index][0] != subseq:\n",
    "                    break\n",
    "                hits.append(subseq_obj.index[raw_index][1])\n",
    "                raw_index += 1\n",
    "            index_hits_per_subseq = hits\n",
    "        index_hits_total += len(index_hits_per_subseq)\n",
    "        for index_hit in index_hits_per_subseq:\n",
    "            j = 0\n",
    "            if index_hit - i < 0 or len(pattern) + index_hit > len(text):\n",
    "                break\n",
    "            mismatches = 0\n",
    "            while j < len(pattern):\n",
    "                if j - i % subseq_obj.ival == 0 and j - i <= subseq_obj.span:\n",
    "                    j += 1\n",
    "                    continue\n",
    "                if pattern[j] != text[j + index_hit]:\n",
    "                    mismatches += 1\n",
    "                    if mismatches > max_num_mismatches:\n",
    "                        break\n",
    "                j += 1\n",
    "            if mismatches <= max_num_mismatches:\n",
    "                occurrences.add(index_hit - i)\n",
    "            \n",
    "    return occurrences, index_hits_total"
   ]
  },
  {
   "cell_type": "code",
   "execution_count": 56,
   "id": "a4b227bb-06da-4d6e-88ae-1ebbd3cdd1f9",
   "metadata": {},
   "outputs": [],
   "source": [
    "t = chrom_1_genome\n",
    "p = 'GGCGCGGTGGCTCACGCCTGTAAT'\n",
    "sub_obj = SubseqIndex(t, 8, 3)\n",
    "occurrences, hits = approximate_subseq(p, t, sub_obj)"
   ]
  },
  {
   "cell_type": "code",
   "execution_count": 57,
   "id": "0e256caa-d85a-446c-a1c7-b4290f3de9d2",
   "metadata": {},
   "outputs": [
    {
     "data": {
      "text/plain": [
       "{56922,\n",
       " 84641,\n",
       " 147558,\n",
       " 191452,\n",
       " 262042,\n",
       " 273669,\n",
       " 364263,\n",
       " 465647,\n",
       " 635931,\n",
       " 657496,\n",
       " 681737,\n",
       " 717706,\n",
       " 747359}"
      ]
     },
     "execution_count": 57,
     "metadata": {},
     "output_type": "execute_result"
    }
   ],
   "source": [
    "occurrences"
   ]
  },
  {
   "cell_type": "code",
   "execution_count": 58,
   "id": "6ac575cd-b536-4715-9e3b-338a0843480e",
   "metadata": {},
   "outputs": [
    {
     "data": {
      "text/plain": [
       "79"
      ]
     },
     "execution_count": 58,
     "metadata": {},
     "output_type": "execute_result"
    }
   ],
   "source": [
    "hits"
   ]
  },
  {
   "cell_type": "code",
   "execution_count": 5,
   "id": "722ad8bc-fc69-4665-ab12-b021d2f650a0",
   "metadata": {},
   "outputs": [
    {
     "ename": "RuntimeError",
     "evalue": "Subsequences cannot cover every character of the pattern",
     "output_type": "error",
     "traceback": [
      "\u001b[0;31m---------------------------------------------------------------------------\u001b[0m",
      "\u001b[0;31mRuntimeError\u001b[0m                              Traceback (most recent call last)",
      "Cell \u001b[0;32mIn[5], line 4\u001b[0m\n\u001b[1;32m      2\u001b[0m t \u001b[38;5;241m=\u001b[39m \u001b[38;5;124m'\u001b[39m\u001b[38;5;124mthis way you have to go home to get a nice dinner\u001b[39m\u001b[38;5;124m'\u001b[39m\n\u001b[1;32m      3\u001b[0m sub_obj \u001b[38;5;241m=\u001b[39m SubseqIndex(t, \u001b[38;5;241m3\u001b[39m, \u001b[38;5;241m1\u001b[39m)\n\u001b[0;32m----> 4\u001b[0m occurrences, hits \u001b[38;5;241m=\u001b[39m \u001b[43mapproximate_subseq\u001b[49m\u001b[43m(\u001b[49m\u001b[43mp\u001b[49m\u001b[43m,\u001b[49m\u001b[43m \u001b[49m\u001b[43mt\u001b[49m\u001b[43m,\u001b[49m\u001b[43m \u001b[49m\u001b[43msub_obj\u001b[49m\u001b[43m)\u001b[49m\n\u001b[1;32m      5\u001b[0m occurrences\n",
      "Cell \u001b[0;32mIn[3], line 6\u001b[0m, in \u001b[0;36mapproximate_subseq\u001b[0;34m(pattern, text, subseq_obj, max_num_mismatches)\u001b[0m\n\u001b[1;32m      4\u001b[0m index_hits_total \u001b[38;5;241m=\u001b[39m \u001b[38;5;241m0\u001b[39m\n\u001b[1;32m      5\u001b[0m \u001b[38;5;28;01mif\u001b[39;00m subseq_obj\u001b[38;5;241m.\u001b[39mk \u001b[38;5;241m*\u001b[39m subseq_obj\u001b[38;5;241m.\u001b[39mival \u001b[38;5;241m!=\u001b[39m \u001b[38;5;28mlen\u001b[39m(pattern):\n\u001b[0;32m----> 6\u001b[0m     \u001b[38;5;28;01mraise\u001b[39;00m \u001b[38;5;167;01mRuntimeError\u001b[39;00m(\u001b[38;5;124m\"\u001b[39m\u001b[38;5;124mSubsequences cannot cover every character of the pattern\u001b[39m\u001b[38;5;124m\"\u001b[39m)\n\u001b[1;32m      8\u001b[0m index_hits_per_subseq \u001b[38;5;241m=\u001b[39m subseq_obj\u001b[38;5;241m.\u001b[39mquery(pattern) \u001b[38;5;66;03m# get the 1st subseq\u001b[39;00m\n\u001b[1;32m     10\u001b[0m \u001b[38;5;28;01mfor\u001b[39;00m i \u001b[38;5;129;01min\u001b[39;00m \u001b[38;5;28mrange\u001b[39m(subseq_obj\u001b[38;5;241m.\u001b[39mival):\n",
      "\u001b[0;31mRuntimeError\u001b[0m: Subsequences cannot cover every character of the pattern"
     ]
    }
   ],
   "source": [
    "p = 'donner'\n",
    "t = 'this way you have to go home to get a nice dinner'\n",
    "sub_obj = SubseqIndex(t, 3, 2)\n",
    "occurrences, hits = approximate_subseq(p, t, sub_obj)\n",
    "occurrences"
   ]
  },
  {
   "cell_type": "code",
   "execution_count": null,
   "id": "54ca8290-94bc-40db-b063-2e9a7de5b218",
   "metadata": {},
   "outputs": [],
   "source": []
  }
 ],
 "metadata": {
  "kernelspec": {
   "display_name": "Python 3 (ipykernel)",
   "language": "python",
   "name": "python3"
  },
  "language_info": {
   "codemirror_mode": {
    "name": "ipython",
    "version": 3
   },
   "file_extension": ".py",
   "mimetype": "text/x-python",
   "name": "python",
   "nbconvert_exporter": "python",
   "pygments_lexer": "ipython3",
   "version": "3.12.8"
  }
 },
 "nbformat": 4,
 "nbformat_minor": 5
}
