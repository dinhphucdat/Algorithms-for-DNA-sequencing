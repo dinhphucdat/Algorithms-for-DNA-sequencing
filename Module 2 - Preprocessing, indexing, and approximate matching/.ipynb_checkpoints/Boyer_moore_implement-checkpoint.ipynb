{
 "cells": [
  {
   "cell_type": "code",
   "execution_count": null,
   "id": "b93a2061-db54-4c4b-a943-13d279508965",
   "metadata": {},
   "outputs": [],
   "source": [
    "# Preprocessing ---> offline (preprocessing T), online otherwise"
   ]
  },
  {
   "cell_type": "raw",
   "id": "31f33e67-bd7a-47d6-aced-8f4555db469d",
   "metadata": {},
   "source": [
    "Pattern = P; Text = T\n",
    "\n",
    " \n",
    "                                                           T\n",
    "    passed into BoyerMoore object for preprocessing,       |\n",
    "             building a lookup table                       v\n",
    "P -----------------------------------------------------> OOOOOOOO ---------------> so that p can be reused for different T\n",
    "\n",
    "\n",
    "\n",
    "\n",
    "- Naive method = online - no preprocessing\n",
    "- Boyer Moore = online - preprocessing on P\n",
    "- Web search engine = offline - preprocessing on text to fit different patterns as users are free to choose\n",
    "- Read alignment = offline - same genome, many fragments to find a location to fit into\n",
    "\n",
    "\n",
    "* k-mer -> substring of length k"
   ]
  },
  {
   "cell_type": "code",
   "execution_count": null,
   "id": "ccd49061-042c-4400-9712-8c59f22e4e9d",
   "metadata": {},
   "outputs": [],
   "source": []
  }
 ],
 "metadata": {
  "kernelspec": {
   "display_name": "Python 3 (ipykernel)",
   "language": "python",
   "name": "python3"
  },
  "language_info": {
   "codemirror_mode": {
    "name": "ipython",
    "version": 3
   },
   "file_extension": ".py",
   "mimetype": "text/x-python",
   "name": "python",
   "nbconvert_exporter": "python",
   "pygments_lexer": "ipython3",
   "version": "3.12.8"
  }
 },
 "nbformat": 4,
 "nbformat_minor": 5
}
