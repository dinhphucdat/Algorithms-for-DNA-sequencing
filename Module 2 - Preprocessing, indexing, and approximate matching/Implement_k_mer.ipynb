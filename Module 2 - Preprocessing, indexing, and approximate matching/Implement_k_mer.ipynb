{
 "cells": [
  {
   "cell_type": "code",
   "execution_count": 42,
   "id": "f7e31eba-3694-4661-82ba-0f93edda2112",
   "metadata": {},
   "outputs": [],
   "source": [
    "import bisect"
   ]
  },
  {
   "cell_type": "code",
   "execution_count": 24,
   "id": "74fc5b24-4fac-464e-952e-8da833050b36",
   "metadata": {},
   "outputs": [],
   "source": [
    "class Index(object):\n",
    "    def __init__(self, text : str, k_mer : int):\n",
    "        self.k_mer = k_mer\n",
    "        self.indices = []\n",
    "        for i in range(len(text) - self.k_mer + 1):\n",
    "            self.indices.append((text[i:i+self.k_mer], i))\n",
    "        self.indices.sort()\n",
    "\n",
    "    def query(self, pattern):\n",
    "        k_mer_str = pattern[:self.k_mer]\n",
    "        i = bisect.bisect_left(self.indices, (k_mer_str, -1))\n",
    "        hits = []\n",
    "        while i < len(self.indices):\n",
    "            if self.indices[i][0] != k_mer_str:\n",
    "                break\n",
    "            hit = self.indices[i][1]\n",
    "            hits.append(hit)\n",
    "            i += 1\n",
    "        return hits\n",
    "    "
   ]
  },
  {
   "cell_type": "code",
   "execution_count": 28,
   "id": "b9ee6e5b-aec0-4103-97cb-dabb65f0f715",
   "metadata": {},
   "outputs": [],
   "source": [
    "def query_index(pattern, text, index_obj : Index):\n",
    "    k_mer = index_obj.k_mer\n",
    "    offsets = []\n",
    "    for indices in index_obj.query(pattern):\n",
    "        if pattern[k_mer:] == text[indices + k_mer : indices + len(pattern)]:\n",
    "            offsets.append(indices)\n",
    "    return offsets"
   ]
  },
  {
   "cell_type": "code",
   "execution_count": 29,
   "id": "583f5c6b-b94d-4b09-b872-e970dbbf5673",
   "metadata": {},
   "outputs": [
    {
     "name": "stdout",
     "output_type": "stream",
     "text": [
      "[0, 3]\n"
     ]
    }
   ],
   "source": [
    "text = \"ATCATCTTAACCTTTCA\"\n",
    "pattern = \"ATC\"\n",
    "index_object = Index(text, 2)\n",
    "print(query_index(pattern, text, index_object))"
   ]
  },
  {
   "cell_type": "code",
   "execution_count": 50,
   "id": "a669f6cb-5bb7-4eb8-97b2-5a419273ed88",
   "metadata": {},
   "outputs": [],
   "source": [
    "# variants of k_mer\n",
    "class IndexPerNth(object):\n",
    "    def __init__(self, text : str, k_mer : int, nth):\n",
    "        self.nth = nth\n",
    "        self.k_mer = k_mer\n",
    "        self.indices = []\n",
    "        for i in range(0, len(text) - self.k_mer + 1, nth):\n",
    "            self.indices.append((text[i:i+self.k_mer], i))\n",
    "        self.indices.sort()\n",
    "\n",
    "    def query(self, pattern):\n",
    "        hits = []\n",
    "        for k in range(self.nth):\n",
    "            k_mer_str = pattern[k:k+self.k_mer]\n",
    "            i = bisect.bisect_left(self.indices, (k_mer_str, -1))\n",
    "            while i < len(self.indices):\n",
    "                if self.indices[i][0] != k_mer_str:\n",
    "                    break\n",
    "                hit = self.indices[i][1] - k\n",
    "                hits.append(hit)\n",
    "                i += 1\n",
    "        return hits"
   ]
  },
  {
   "cell_type": "code",
   "execution_count": 59,
   "id": "fb9262e2-e39c-4bf4-89bf-672886cef831",
   "metadata": {},
   "outputs": [],
   "source": [
    "\n",
    "def query_index_nth(pattern, text, index_obj : IndexPerNth):\n",
    "    k_mer = index_obj.k_mer\n",
    "    offsets = []\n",
    "    for indices in index_obj.query(pattern):\n",
    "        if pattern == text[indices : indices + len(pattern)]:\n",
    "            offsets.append(indices)\n",
    "        else:\n",
    "            for i in range(1, index_obj.nth):\n",
    "                if pattern[:i] == text[indices:indices+i] and pattern[i:] == text[indices + i : indices + len(pattern)]:\n",
    "                    offsets.append(indices)\n",
    "    return offsets"
   ]
  },
  {
   "cell_type": "code",
   "execution_count": 60,
   "id": "f20a955f-cab8-415b-8890-93df8b9e6554",
   "metadata": {},
   "outputs": [
    {
     "data": {
      "text/plain": [
       "'\\ndef query_index_nth(pattern, text, index_obj: IndexPerNth):\\n    k_mer = index_obj.k_mer\\n    nth = index_obj.nth\\n    offsets = []\\n\\n    for index in index_obj.query(pattern):\\n        # Check full match directly\\n        if pattern == text[index:index + len(pattern)]:\\n            offsets.append(index)\\n        else:\\n            # Handle cases where pattern might partially overlap\\n            for i in range(1, nth):\\n                if pattern[:i] == text[index:index + i] and pattern[i:] == text[index + i:index + len(pattern)]:\\n                    offsets.append(index)\\n                    #break  # No need to check further for this index\\n\\n    return offsets\\n'"
      ]
     },
     "execution_count": 60,
     "metadata": {},
     "output_type": "execute_result"
    }
   ],
   "source": [
    "\"\"\"\n",
    "def query_index_nth(pattern, text, index_obj: IndexPerNth):\n",
    "    k_mer = index_obj.k_mer\n",
    "    nth = index_obj.nth\n",
    "    offsets = []\n",
    "\n",
    "    for index in index_obj.query(pattern):\n",
    "        # Check full match directly\n",
    "        if pattern == text[index:index + len(pattern)]:\n",
    "            offsets.append(index)\n",
    "        else:\n",
    "            # Handle cases where pattern might partially overlap\n",
    "            for i in range(1, nth):\n",
    "                if pattern[:i] == text[index:index + i] and pattern[i:] == text[index + i:index + len(pattern)]:\n",
    "                    offsets.append(index)\n",
    "                    #break  # No need to check further for this index\n",
    "\n",
    "    return offsets\n",
    "\"\"\""
   ]
  },
  {
   "cell_type": "code",
   "execution_count": 61,
   "id": "b676a14c-9553-4922-ad47-d01e5d132ed4",
   "metadata": {},
   "outputs": [
    {
     "name": "stdout",
     "output_type": "stream",
     "text": [
      "[0, 3]\n"
     ]
    }
   ],
   "source": [
    "text = \"ATCATCTTAACCTTTCA\"\n",
    "pattern = \"ATC\"\n",
    "index_object = IndexPerNth(text, 2, 2)\n",
    "print(query_index_nth(pattern, text, index_object))"
   ]
  },
  {
   "cell_type": "code",
   "execution_count": null,
   "id": "b501b646-fde7-4e54-bff7-a66d87ec0d69",
   "metadata": {},
   "outputs": [],
   "source": []
  }
 ],
 "metadata": {
  "kernelspec": {
   "display_name": "Python 3 (ipykernel)",
   "language": "python",
   "name": "python3"
  },
  "language_info": {
   "codemirror_mode": {
    "name": "ipython",
    "version": 3
   },
   "file_extension": ".py",
   "mimetype": "text/x-python",
   "name": "python",
   "nbconvert_exporter": "python",
   "pygments_lexer": "ipython3",
   "version": "3.12.8"
  }
 },
 "nbformat": 4,
 "nbformat_minor": 5
}
