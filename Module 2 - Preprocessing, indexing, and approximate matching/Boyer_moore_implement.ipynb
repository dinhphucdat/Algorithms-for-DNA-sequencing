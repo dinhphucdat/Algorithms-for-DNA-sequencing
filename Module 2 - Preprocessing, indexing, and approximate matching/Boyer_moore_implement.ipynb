{
 "cells": [
  {
   "cell_type": "code",
   "execution_count": null,
   "id": "b93a2061-db54-4c4b-a943-13d279508965",
   "metadata": {},
   "outputs": [],
   "source": [
    "# Preprocessing ---> offline (preprocessing T), online otherwise"
   ]
  },
  {
   "cell_type": "raw",
   "id": "31f33e67-bd7a-47d6-aced-8f4555db469d",
   "metadata": {},
   "source": [
    "Pattern = P; Text = T\n",
    "\n",
    " \n",
    "                                                           T\n",
    "    passed into BoyerMoore object for preprocessing,       |\n",
    "             building a lookup table                       v\n",
    "P -----------------------------------------------------> OOOOOOOO ---------------> so that p can be reused for different T\n",
    "\n",
    "\n",
    "\n",
    "\n",
    "- Naive method = online - no preprocessing\n",
    "- Boyer Moore = online - preprocessing on P\n",
    "- Web search engine = offline - preprocessing on text to fit different patterns as users are free to choose\n",
    "- Read alignment = offline - same genome, many fragments to find a location to fit into\n",
    "\n",
    "\n",
    "* k-mer -> substring of length k"
   ]
  },
  {
   "cell_type": "code",
   "execution_count": 6,
   "id": "ccd49061-042c-4400-9712-8c59f22e4e9d",
   "metadata": {},
   "outputs": [],
   "source": [
    "class BoyerMoore:\n",
    "    def __init__(self, pattern : str):\n",
    "        self.pattern = pattern\n",
    "        self.bad_character_table = {}\n",
    "        self.build_bad_character_table()\n",
    "\n",
    "\n",
    "    def build_bad_character_table(self):\n",
    "        \"\"\"\n",
    "        At position ith of the pattern: max(len - i - 1, 0)\n",
    "        This determines how far it'll shift given the index of the mismatched at the text\n",
    "        \"\"\"\n",
    "        length_pattern = len(self.pattern)\n",
    "        for i, character in enumerate(self.pattern[:-1]):\n",
    "            self.bad_character_table[character] = length_pattern - i - 1\n",
    "\n",
    "\n",
    "    def bad_character_rule(self, char_at_mismatched : str) -> int:\n",
    "        return self.bad_character_table[char_at_mismatched] if char_at_mismatched in self.bad_character_table.keys() else len(self.pattern)\n"
   ]
  },
  {
   "cell_type": "code",
   "execution_count": 8,
   "id": "21617b9f-7a47-4e01-af17-3a94bc832493",
   "metadata": {},
   "outputs": [
    {
     "name": "stdout",
     "output_type": "stream",
     "text": [
      "2\n"
     ]
    }
   ],
   "source": [
    "pattern_preprocess = BoyerMoore(\"ATCGATAC\")\n",
    "print(pattern_preprocess.bad_character_rule(\"T\"))"
   ]
  },
  {
   "cell_type": "code",
   "execution_count": null,
   "id": "def33088-d8a0-4b21-940c-270a87d09fa6",
   "metadata": {},
   "outputs": [],
   "source": []
  }
 ],
 "metadata": {
  "kernelspec": {
   "display_name": "Python 3 (ipykernel)",
   "language": "python",
   "name": "python3"
  },
  "language_info": {
   "codemirror_mode": {
    "name": "ipython",
    "version": 3
   },
   "file_extension": ".py",
   "mimetype": "text/x-python",
   "name": "python",
   "nbconvert_exporter": "python",
   "pygments_lexer": "ipython3",
   "version": "3.12.8"
  }
 },
 "nbformat": 4,
 "nbformat_minor": 5
}
