{
 "cells": [
  {
   "cell_type": "code",
   "execution_count": 4,
   "id": "00cf97d2-e5c0-485f-b6bb-0ce7c87d3acc",
   "metadata": {},
   "outputs": [],
   "source": [
    "# This version only has recursive approach, but the catch is it will recall the steps that it called before\n",
    "# say X the first sequence, Y is the second sequence\n",
    "# X = alpha_x, Y = beta_y so x and y will be the last bases in the whole sequences and alpha and beta are their prefixes\n",
    "\n",
    "def edist(X, Y):\n",
    "    if len(X) == 0 or len(Y) == 0:\n",
    "        return max(len(X), len(Y))\n",
    "    else:\n",
    "        delta = 0 if X[-1] == Y[-1] else 1\n",
    "        return min(\n",
    "            edist(X[:-1], Y[:-1]) + delta,\n",
    "            edist(X, Y[:-1]) + 1,\n",
    "            edist(X[:-1], Y) + 1,\n",
    "        )"
   ]
  },
  {
   "cell_type": "code",
   "execution_count": 5,
   "id": "bd5ca81d-16ef-4934-883a-7a96c9e81880",
   "metadata": {},
   "outputs": [],
   "source": [
    "# This version is the optimized version of the recursive approach. It uses a matrix to store the results\n",
    "import numpy as np\n",
    "def get_edist(X, Y):\n",
    "    # Initialize the matrix with -1 (indicating uncomputed values)\n",
    "    matrix = np.full((len(X) + 1, len(Y) + 1), -1)\n",
    "    return edist_dynamic(X, Y, len(X), len(Y), matrix)\n",
    "\n",
    "def edist_dynamic(X, Y, i, j, matrix):\n",
    "    # Base case: if one string is empty\n",
    "    if i == 0 or j == 0:\n",
    "        matrix[i, j] = max(i, j)\n",
    "        return matrix[i, j]\n",
    "    \n",
    "    # Return precomputed value\n",
    "    if matrix[i, j] != -1:\n",
    "        return matrix[i, j]\n",
    "    \n",
    "    # Calculate delta for substitution cost\n",
    "    delta = 0 if X[i - 1] == Y[j - 1] else 1\n",
    "\n",
    "    # Compute the value recursively and store it\n",
    "    matrix[i, j] = min(\n",
    "        edist_dynamic(X, Y, i - 1, j - 1, matrix) + delta,  # Substitution\n",
    "        edist_dynamic(X, Y, i, j - 1, matrix) + 1,         # Insertion\n",
    "        edist_dynamic(X, Y, i - 1, j, matrix) + 1          # Deletion\n",
    "    )\n",
    "    return matrix[i, j]"
   ]
  },
  {
   "cell_type": "code",
   "execution_count": 52,
   "id": "32afa515-0619-4231-bbca-ffe888ef3f73",
   "metadata": {},
   "outputs": [
    {
     "name": "stdout",
     "output_type": "stream",
     "text": [
      "Edit distance between 'kitten' and 'sitting': 3\n"
     ]
    }
   ],
   "source": [
    "X = \"kitten\"\n",
    "Y = \"sitting\"\n",
    "\n",
    "distance = get_edist(X, Y)\n",
    "print(f\"Edit distance between '{X}' and '{Y}': {distance}\")"
   ]
  },
  {
   "cell_type": "code",
   "execution_count": 40,
   "id": "3f99f507-9d2e-46bc-ab1d-60c39d60be5f",
   "metadata": {},
   "outputs": [],
   "source": [
    "# Another version which never uses recursive approach but only loops through each cell in the matrix\n",
    "def edist_loopmatrix(X, Y):\n",
    "    matrix = np.full((len(X) + 1, len(Y) + 1), None)\n",
    "    # Fill the first row and first column (base cases)\n",
    "    for ix in range(len(X) + 1):\n",
    "        matrix[ix, 0] = ix\n",
    "    for iy in range(len(Y) + 1):\n",
    "        matrix[0, iy] = iy\n",
    "    for ix in range(1, len(X) + 1):\n",
    "        for iy in range(1, len(Y) + 1):\n",
    "            delta = 0 if X[ix - 1] == Y[iy - 1] else 1\n",
    "            matrix[ix, iy] = min(\n",
    "                matrix[ix - 1, iy - 1] + delta,\n",
    "                matrix[ix - 1, iy] + 1,\n",
    "                matrix[ix, iy - 1] + 1\n",
    "            )\n",
    "    return matrix[len(X), len(Y)]"
   ]
  },
  {
   "cell_type": "code",
   "execution_count": 42,
   "id": "365a513d-a0fa-46ae-8508-a58bc131f587",
   "metadata": {},
   "outputs": [
    {
     "name": "stdout",
     "output_type": "stream",
     "text": [
      "Edit distance between 'kitten' and 'sitting': 3\n"
     ]
    }
   ],
   "source": [
    "X = \"kitten\"\n",
    "Y = \"sitting\"\n",
    "\n",
    "distance = edist_loopmatrix(X, Y)\n",
    "print(f\"Edit distance between '{X}' and '{Y}': {distance}\")"
   ]
  },
  {
   "cell_type": "code",
   "execution_count": 21,
   "id": "be188360-f467-477d-8df3-a1dc104d1f66",
   "metadata": {},
   "outputs": [],
   "source": [
    "# Global alignment\n",
    "def galign_penalty(x, y):\n",
    "    \"\"\"\n",
    "    Only approves A, T, C, G, or -\n",
    "    \"\"\"\n",
    "    purines = {'A', 'G'}\n",
    "    pyrimidines = {'T', 'C'}\n",
    "    gap = \"-\"\n",
    "    if (x not in purines.union(pyrimidines, {gap}) and y not in purines.union(pyrimidines, {gap})) or (x == gap and y == gap):\n",
    "        raise ValueError(\"Only approves A, T, C, G, or -\")\n",
    "\n",
    "    # Matches\n",
    "    if x == y:\n",
    "        return 0\n",
    "    # Transitions\n",
    "    if (x in purines and y in purines) or (x in pyrimidines and y in pyrimidines):\n",
    "        return 2\n",
    "    # Transversions\n",
    "    if (x in purines and y in pyrimidines) or (x in pyrimidines and y in purines):\n",
    "        return 4\n",
    "    # Gaps\n",
    "    if (x == gap or y == gap):\n",
    "        return 8\n",
    "    \n",
    "def galign(X, Y):\n",
    "    matrix = np.full((len(X) + 1, len(Y) + 1), None)\n",
    "    # Fill the first row and first column (base cases)\n",
    "    for ix in range(len(X) + 1):\n",
    "        matrix[ix, 0] = matrix[ix - 1, 0] + galign_penalty(X[ix - 1], \"-\") if ix > 0 else 0\n",
    "    for iy in range(len(Y) + 1):\n",
    "        matrix[0, iy] = matrix[0, iy - 1] + galign_penalty(\"-\", Y[iy - 1]) if iy > 0 else 0\n",
    "    for ix in range(1, len(X) + 1):\n",
    "        for iy in range(1, len(Y) + 1):\n",
    "            matrix[ix, iy] = min(\n",
    "                # Substitution\n",
    "                matrix[ix - 1, iy - 1] + galign_penalty(X[ix - 1], Y[iy - 1]),\n",
    "                # Deletion\n",
    "                matrix[ix - 1, iy] + galign_penalty(X[ix - 1], \"-\"),\n",
    "                # Insertion\n",
    "                matrix[ix, iy - 1] + galign_penalty(\"-\", Y[iy - 1])\n",
    "            )\n",
    "    return matrix[len(X), len(Y)]"
   ]
  },
  {
   "cell_type": "code",
   "execution_count": 27,
   "id": "558d2ebd-af3f-45c5-839c-3ffcef974be5",
   "metadata": {},
   "outputs": [
    {
     "name": "stdout",
     "output_type": "stream",
     "text": [
      "10\n"
     ]
    }
   ],
   "source": [
    "X = \"TACCAGATTCGA\"\n",
    "Y = \"TACCAAATTGA\"\n",
    "print(galign(X, Y))"
   ]
  },
  {
   "cell_type": "raw",
   "id": "5a4c8c55-d75a-4af1-a797-089e15607659",
   "metadata": {},
   "source": [
    "X = TACCA G ATTCGA\n",
    "Y = TACCA A ATT-GA\n",
    "          ^    ^\n",
    "          2    8  = 10"
   ]
  }
 ],
 "metadata": {
  "kernelspec": {
   "display_name": "Python 3 (ipykernel)",
   "language": "python",
   "name": "python3"
  },
  "language_info": {
   "codemirror_mode": {
    "name": "ipython",
    "version": 3
   },
   "file_extension": ".py",
   "mimetype": "text/x-python",
   "name": "python",
   "nbconvert_exporter": "python",
   "pygments_lexer": "ipython3",
   "version": "3.12.8"
  }
 },
 "nbformat": 4,
 "nbformat_minor": 5
}
