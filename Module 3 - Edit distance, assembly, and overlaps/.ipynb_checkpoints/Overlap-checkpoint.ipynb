{
 "cells": [
  {
   "cell_type": "code",
   "execution_count": 2,
   "id": "248d6fdf-7c03-45e9-bd95-fbd1c2e7396f",
   "metadata": {},
   "outputs": [],
   "source": [
    "def overlap(seq_a, seq_b, minlength):\n",
    "    start = 0; # starts all the way to the left\n",
    "    while (True):\n",
    "        start = seq_a.find(seq_b[:minlength], start) # looks for b's suffix in a\n",
    "        if start == -1: # no more occurrences to the right\n",
    "            return 0\n",
    "            # found occurrences, checks for full suffix-prefix match\n",
    "        if seq_b.startswith(seq_a[start:]):\n",
    "            return len(seq_a) - start\n",
    "        start += 1 # Moves just past the previous match"
   ]
  },
  {
   "cell_type": "code",
   "execution_count": 11,
   "id": "76d8b78d-0a54-49ef-9085-2415390dedae",
   "metadata": {},
   "outputs": [
    {
     "name": "stdout",
     "output_type": "stream",
     "text": [
      "0\n"
     ]
    }
   ],
   "source": [
    "a = \"CGTATTCCTA\"\n",
    "b = \"ATTCCTT\"\n",
    "print(overlap(a, b, 2))"
   ]
  },
  {
   "cell_type": "code",
   "execution_count": 12,
   "id": "7b9b424f-756e-4339-8bab-6cb99a4a80de",
   "metadata": {},
   "outputs": [],
   "source": [
    "from itertools import permutations"
   ]
  },
  {
   "cell_type": "code",
   "execution_count": 15,
   "id": "7e33af80-bfbf-485e-87a0-5389ef72afed",
   "metadata": {},
   "outputs": [],
   "source": [
    "def naive_overlap_map(reads : list, minoverlaplen):\n",
    "    overlaps = {}\n",
    "    for a, b in permutations(reads, 2):\n",
    "        overlaplen = overlap(a, b, minoverlaplen)\n",
    "        if overlaplen > 0:\n",
    "            overlaps[(a, b)] = overlaplen\n",
    "    return overlaps"
   ]
  },
  {
   "cell_type": "code",
   "execution_count": 16,
   "id": "a08b7864-8d0c-45e5-8aaf-c6d94b9bf1e0",
   "metadata": {},
   "outputs": [
    {
     "name": "stdout",
     "output_type": "stream",
     "text": [
      "{('ACGGATGATC', 'GATCAAGT'): 4, ('TTCACGGA', 'ACGGATGATC'): 5}\n"
     ]
    }
   ],
   "source": [
    "reads = [\"ACGGATGATC\", \"GATCAAGT\", \"TTCACGGA\"]\n",
    "print(naive_overlap_map(reads, 3))"
   ]
  },
  {
   "cell_type": "code",
   "execution_count": null,
   "id": "41bc5912-b8c6-46be-b33b-4fce42b482ff",
   "metadata": {},
   "outputs": [],
   "source": []
  }
 ],
 "metadata": {
  "kernelspec": {
   "display_name": "Python 3 (ipykernel)",
   "language": "python",
   "name": "python3"
  },
  "language_info": {
   "codemirror_mode": {
    "name": "ipython",
    "version": 3
   },
   "file_extension": ".py",
   "mimetype": "text/x-python",
   "name": "python",
   "nbconvert_exporter": "python",
   "pygments_lexer": "ipython3",
   "version": "3.12.8"
  }
 },
 "nbformat": 4,
 "nbformat_minor": 5
}
