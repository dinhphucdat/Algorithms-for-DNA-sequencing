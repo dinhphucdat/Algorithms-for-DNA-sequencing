{
 "cells": [
  {
   "cell_type": "code",
   "execution_count": 2,
   "id": "4815428c-a65c-4d5c-85b0-f15b6f998929",
   "metadata": {},
   "outputs": [],
   "source": [
    "# !wget https://d28rh4a8wq0iu5.cloudfront.net/ads1/data/chr1.GRCh38.excerpt.fasta"
   ]
  },
  {
   "cell_type": "code",
   "execution_count": 9,
   "id": "d3f31fbc-e1d3-4226-9498-58ea14e47f8c",
   "metadata": {},
   "outputs": [],
   "source": [
    "# Find the closest match\n",
    "def editDistanceClosest(pattern, text):\n",
    "    # Create distance matrix\n",
    "    D = []\n",
    "    for _ in range(len(text)+1):\n",
    "        D.append([0]*(len(pattern)+1))\n",
    "    # Initialize first row and column of matrix\n",
    "    for i in range(len(text)+1):\n",
    "        D[i][0] = 0\n",
    "    for i in range(len(pattern)+1):\n",
    "        D[0][i] = i\n",
    "    # Fill in the rest of the matrix\n",
    "    for i in range(1, len(text)+1):\n",
    "        for j in range(1, len(pattern)+1):\n",
    "            distHor = D[i][j-1] + 1\n",
    "            distVer = D[i-1][j] + 1\n",
    "            if text[i-1] == pattern[j-1]:\n",
    "                distDiag = D[i-1][j-1]\n",
    "            else:\n",
    "                distDiag = D[i-1][j-1] + 1\n",
    "            D[i][j] = min(distHor, distVer, distDiag)\n",
    "    # Potential offset appears at the cell where edit distance is minimum the value in the bottom row of the matrix\n",
    "    bottom_row = [column[len(pattern)] for column in D]\n",
    "    index_match_bottom = bottom_row.index(min(bottom_row))\n",
    "    # Trace back:\n",
    "    row, column = trace_back(pattern, text, D, index_match_bottom)\n",
    "    return D[index_match_bottom][len(pattern)], row, column\n",
    "\n",
    "def trace_back(pattern, text, D, index_match_bottom):\n",
    "    i = index_match_bottom\n",
    "    j = len(pattern)\n",
    "    while (i > 0 and j > 0):\n",
    "        # Establish the other 3 coordinates one of which led to the current result in the current cell (i, j)\n",
    "        above_coor = (i, j-1)\n",
    "        left_coor = (i-1, j)\n",
    "        upper_left_coor = (i-1, j-1)\n",
    "        # Calculate the delta based on the similarity of the suffixes\n",
    "        delta = 0 if text[i - 1] == pattern[j - 1] else 1\n",
    "        # Check to see where the current coordinate comes from\n",
    "        current_edist = D[i][j]\n",
    "        if current_edist == D[above_coor[0]][above_coor[1]] + 1:\n",
    "            i = above_coor[0]\n",
    "            j = above_coor[1]\n",
    "        elif current_edist == D[left_coor[0]][left_coor[1]] + 1:\n",
    "            i = left_coor[0]\n",
    "            j = left_coor[1]\n",
    "        elif current_edist == D[upper_left_coor[0]][upper_left_coor[1]] + delta:\n",
    "            i = upper_left_coor[0]\n",
    "            j = upper_left_coor[1]\n",
    "    return (i, j)\n"
   ]
  },
  {
   "cell_type": "code",
   "execution_count": 11,
   "id": "f800dd59-47f1-4676-b3c8-b0623a743b7d",
   "metadata": {},
   "outputs": [
    {
     "name": "stdout",
     "output_type": "stream",
     "text": [
      "2\n",
      "5\n"
     ]
    }
   ],
   "source": [
    "text = \"TATTGGCTATACGGTT\"\n",
    "pattern = \"GCGTATGC\"\n",
    "shortest_edist, i, j = editDistanceClosest(pattern, text)\n",
    "print(shortest_edist)\n",
    "print(i)"
   ]
  },
  {
   "cell_type": "code",
   "execution_count": 13,
   "id": "5a902327-38c3-46b1-b680-2698ad57146e",
   "metadata": {},
   "outputs": [],
   "source": [
    "# Read genome in the fasta file\n",
    "genome = \"\"\n",
    "genome_line_list = []\n",
    "with open(\"chr1.GRCh38.excerpt.fasta\", \"r\") as f:\n",
    "    for line in f:\n",
    "        if line[0] != \">\":\n",
    "            genome_line_list.append(line.rstrip())\n",
    "genome = \"\".join(genome_line_list)"
   ]
  },
  {
   "cell_type": "code",
   "execution_count": 14,
   "id": "aa37ac9d-a4da-427d-9fd2-a7b17913b9ec",
   "metadata": {},
   "outputs": [
    {
     "name": "stdout",
     "output_type": "stream",
     "text": [
      "3\n",
      "380536\n"
     ]
    }
   ],
   "source": [
    "# Question 1\n",
    "pattern = \"GCTGATCGATCGTACG\"\n",
    "shortest_edist, i, j = editDistanceClosest(pattern, genome)\n",
    "print(shortest_edist)\n",
    "print(i)"
   ]
  },
  {
   "cell_type": "code",
   "execution_count": 15,
   "id": "a8cd8dff-c79d-4700-9bd1-43c1ce3d8539",
   "metadata": {},
   "outputs": [
    {
     "name": "stdout",
     "output_type": "stream",
     "text": [
      "2\n",
      "186719\n"
     ]
    }
   ],
   "source": [
    "# Question 2\n",
    "pattern = \"GATTTACCAGATTGAG\"\n",
    "shortest_edist, i, j = editDistanceClosest(pattern, genome)\n",
    "print(shortest_edist)\n",
    "print(i)"
   ]
  },
  {
   "cell_type": "code",
   "execution_count": 16,
   "id": "a88ac6a8-aa74-4012-96e5-784cacfd6934",
   "metadata": {},
   "outputs": [],
   "source": [
    "# Combine k-mer-index approach in approximate matching and then overlap assembly\n",
    "def overlap(a, b, min_length=3):\n",
    "    \"\"\" Return length of longest suffix of 'a' matching\n",
    "        a prefix of 'b' that is at least 'min_length'\n",
    "        characters long.  If no such overlap exists,\n",
    "        return 0. \"\"\"\n",
    "    start = 0  # start all the way at the left\n",
    "    while True:\n",
    "        start = a.find(b[:min_length], start)  # look for b's prefix in a\n",
    "        if start == -1:  # no more occurrences to right\n",
    "            return 0\n",
    "        # found occurrence; check for full suffix/prefix match\n",
    "        if b.startswith(a[start:]):\n",
    "            return len(a)-start\n",
    "        start += 1  # move just past previous match"
   ]
  },
  {
   "cell_type": "code",
   "execution_count": 28,
   "id": "faa6f66b-9aa9-4f4a-93f2-3dc2044e584a",
   "metadata": {},
   "outputs": [],
   "source": [
    "class DenovoAssembly:\n",
    "    def __init__(self, reads, min_len = 3):\n",
    "        self.min_len = min_len\n",
    "        self.reads = reads\n",
    "        self.k_mer_map = dict()\n",
    "        self.overlap_map = []\n",
    "\n",
    "    def analyze_kmer_reads(self):\n",
    "        for read in reads:\n",
    "            k_mer_set = set()\n",
    "            for i in range(len(read) - self.min_len + 1):\n",
    "                k_mer_set.add(read[i:i+self.min_len])\n",
    "            self.k_mer_map[read] = k_mer_set\n",
    "\n",
    "    def assemble(self):\n",
    "        self.analyze_kmer_reads()\n",
    "        k_mer_map_keys = list(self.k_mer_map.keys())\n",
    "        for i in range(len(self.k_mer_map)):\n",
    "            current_read = k_mer_map_keys[i]\n",
    "            for j in range(len(self.k_mer_map)):\n",
    "                compared_read = k_mer_map_keys[j]\n",
    "                if (compared_read[:self.min_len] not in self.k_mer_map[current_read]) or i == j:\n",
    "                    continue\n",
    "                else:\n",
    "                    overlap_len = overlap(current_read, compared_read, min_length=self.min_len)\n",
    "                    if overlap_len > 0:\n",
    "                        self.overlap_map.append((current_read, compared_read))\n",
    "        return self.overlap_map"
   ]
  },
  {
   "cell_type": "code",
   "execution_count": 29,
   "id": "961331de-7761-499e-9272-9e2390028604",
   "metadata": {},
   "outputs": [
    {
     "name": "stdout",
     "output_type": "stream",
     "text": [
      "[('ABCDEFG', 'EFGHIJ'), ('EFGHIJ', 'HIJABC'), ('HIJABC', 'ABCDEFG')]\n"
     ]
    }
   ],
   "source": [
    "reads = ['ABCDEFG', 'EFGHIJ', 'HIJABC']\n",
    "assembly_obj = DenovoAssembly(reads, min_len=3)\n",
    "print(assembly_obj.assemble())"
   ]
  },
  {
   "cell_type": "code",
   "execution_count": 32,
   "id": "84949c4d-fa9c-4d73-a3b8-3aea1a6961b6",
   "metadata": {},
   "outputs": [
    {
     "name": "stdout",
     "output_type": "stream",
     "text": [
      "('CGTACG', 'GTACGT')\n",
      "('CGTACG', 'GTACGA')\n",
      "('TACGTA', 'ACGTAC')\n",
      "('GTACGT', 'TACGTA')\n",
      "('ACGTAC', 'CGTACG')\n",
      "('GTACGA', 'TACGAT')\n"
     ]
    },
    {
     "data": {
      "text/plain": [
       "[None, None, None, None, None, None]"
      ]
     },
     "execution_count": 32,
     "metadata": {},
     "output_type": "execute_result"
    }
   ],
   "source": [
    "reads = ['CGTACG', 'TACGTA', 'GTACGT', 'ACGTAC', 'GTACGA', 'TACGAT']\n",
    "assembly_obj = DenovoAssembly(reads, min_len=5)\n",
    "[print(element) for element in assembly_obj.assemble()]"
   ]
  },
  {
   "cell_type": "code",
   "execution_count": 33,
   "id": "bed883c6-6093-4c1a-be1e-fc3c42f6bf9d",
   "metadata": {},
   "outputs": [
    {
     "name": "stdout",
     "output_type": "stream",
     "text": [
      "--2025-02-16 13:27:15--  https://d28rh4a8wq0iu5.cloudfront.net/ads1/data/ERR266411_1.for_asm.fastq\n",
      "13.227.44.144, 13.227.44.207, 13.227.44.91, ...a8wq0iu5.cloudfront.net)... \n",
      "Connecting to d28rh4a8wq0iu5.cloudfront.net (d28rh4a8wq0iu5.cloudfront.net)|13.227.44.144|:443... connected.\n",
      "200 OKequest sent, awaiting response... \n",
      "Length: 2562951 (2.4M) [application/octet-stream]\n",
      "Saving to: ‘ERR266411_1.for_asm.fastq’\n",
      "\n",
      "ERR266411_1.for_asm 100%[===================>]   2.44M  --.-KB/s    in 0.1s    \n",
      "\n",
      "2025-02-16 13:27:16 (19.0 MB/s) - ‘ERR266411_1.for_asm.fastq’ saved [2562951/2562951]\n",
      "\n"
     ]
    }
   ],
   "source": [
    "# !wget https://d28rh4a8wq0iu5.cloudfront.net/ads1/data/ERR266411_1.for_asm.fastq"
   ]
  },
  {
   "cell_type": "code",
   "execution_count": 34,
   "id": "14f76510-f2bd-4248-91f4-522f20baec5b",
   "metadata": {},
   "outputs": [],
   "source": [
    "def read_fastq(filename):\n",
    "    sequences = []\n",
    "    qualities = []\n",
    "    with open(filename, \"r\") as fh:\n",
    "        while True:\n",
    "            fh.readline()\n",
    "            seq = fh.readline().rstrip()\n",
    "            fh.readline()\n",
    "            Q_encoded = fh.readline().rstrip()\n",
    "            if len(seq) == 0:\n",
    "                break\n",
    "            sequences.append(seq)\n",
    "            qualities.append(Q_encoded)\n",
    "    return sequences, qualities"
   ]
  },
  {
   "cell_type": "code",
   "execution_count": 35,
   "id": "9d004667-4d6f-44bf-9447-c73b491e51a9",
   "metadata": {},
   "outputs": [],
   "source": [
    "reads, qualities = read_fastq(\"ERR266411_1.for_asm.fastq\")"
   ]
  },
  {
   "cell_type": "code",
   "execution_count": 38,
   "id": "6789d950-193a-49a3-a5e0-72547c931678",
   "metadata": {},
   "outputs": [
    {
     "name": "stdout",
     "output_type": "stream",
     "text": [
      "904746\n"
     ]
    }
   ],
   "source": [
    "# Question 3\n",
    "assembly_obj = DenovoAssembly(reads, min_len=30)\n",
    "overlap_map = assembly_obj.assemble()\n",
    "print(len(overlap_map))"
   ]
  },
  {
   "cell_type": "code",
   "execution_count": 39,
   "id": "dc65e75e-79e0-4d74-ba89-7211f23d48fe",
   "metadata": {},
   "outputs": [
    {
     "data": {
      "text/plain": [
       "[('TAAACAAGCAGTAGTAATTCCTGCTTTATCAAGATAATTTTTCGACTCATCAGAAATATCCGAAAGTGTTAACTTCTGCGTCATGGAAGCGATAAAACTC',\n",
       "  'AACAAGCAGTAGTAATTCCTGCTTTATCAAGATAATTTTTCGACTCATCAGAAATATCCGAAAGTGTTAACTTCTGCGTCATGGAAGCGATAAAACTCTG'),\n",
       " ('TAAACAAGCAGTAGTAATTCCTGCTTTATCAAGATAATTTTTCGACTCATCAGAAATATCCGAAAGTGTTAACTTCTGCGTCATGGAAGCGATAAAACTC',\n",
       "  'AAACAAGCAGTAGTAATTCCTGCTTTATCAAGATAATTTTTCGACTCATCAGAAATATCCGAAAGTGTTAACTTCTGCGTCATGGAAGCGATAAAACTCT'),\n",
       " ('AGCCGACGTTTTGGCGGCGCAACCTGTGACGACAAATCTGCTCAAATTTATGCGCGCTTCGATAAAAATGATTGGCGTATCCAACCTGCAGAGTTTTATC',\n",
       "  'GACAAATCTGCTCAAATTTATGCGCGCTTCGATAAAAATGATTGGCGTATCCAACCTGCAGAGTTTTATCGCTTCCATGACGCAGAAGTTAACACTTTCG'),\n",
       " ('AGCCGACGTTTTGGCGGCGCAACCTGTGACGACAAATCTGCTCAAATTTATGCGCGCTTCGATAAAAATGATTGGCGTATCCAACCTGCAGAGTTTTATC',\n",
       "  'CTGTGACGACAAATCTGCTCAAATTTATGCGCGCTTCGATAAAAATGATTGGCGTATCCAACCTGCAGAGTTTTATCGCTTCCATGACGCAGAAGTTAAC'),\n",
       " ('AGCCGACGTTTTGGCGGCGCAACCTGTGACGACAAATCTGCTCAAATTTATGCGCGCTTCGATAAAAATGATTGGCGTATCCAACCTGCAGAGTTTTATC',\n",
       "  'CAAATCTGCTCAAATTTATGCGCGCTTCGATAAAAATGATTGGCGTATCCAACCTGCAGAGTTTTATCGCTTCCATGACGCAGAAGTTAACACTTTCGGA')]"
      ]
     },
     "execution_count": 39,
     "metadata": {},
     "output_type": "execute_result"
    }
   ],
   "source": [
    "overlap_map[:5]"
   ]
  },
  {
   "cell_type": "code",
   "execution_count": 45,
   "id": "1661cfa0-6ea4-4f1e-ae28-2f16d05fc57d",
   "metadata": {},
   "outputs": [
    {
     "name": "stdout",
     "output_type": "stream",
     "text": [
      "7161\n"
     ]
    }
   ],
   "source": [
    "# Question 4\n",
    "nodes = set()\n",
    "all_nodes_testing = dict()\n",
    "for edge in overlap_map:\n",
    "    all_nodes_testing[edge[0]] = 0 if edge[0] not in all_nodes_testing else all_nodes_testing[edge[0]] + 1\n",
    "for node in all_nodes_testing.keys():\n",
    "    if all_nodes_testing[node] >= 0:\n",
    "        nodes.add(node)\n",
    "print(len(nodes))"
   ]
  },
  {
   "cell_type": "code",
   "execution_count": null,
   "id": "91d03bf1-b70f-4f20-9475-f4c0c014b572",
   "metadata": {},
   "outputs": [],
   "source": []
  }
 ],
 "metadata": {
  "kernelspec": {
   "display_name": "Python 3 (ipykernel)",
   "language": "python",
   "name": "python3"
  },
  "language_info": {
   "codemirror_mode": {
    "name": "ipython",
    "version": 3
   },
   "file_extension": ".py",
   "mimetype": "text/x-python",
   "name": "python",
   "nbconvert_exporter": "python",
   "pygments_lexer": "ipython3",
   "version": "3.12.8"
  }
 },
 "nbformat": 4,
 "nbformat_minor": 5
}
